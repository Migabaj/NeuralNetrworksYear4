{
 "cells": [
  {
   "cell_type": "code",
   "execution_count": 8,
   "metadata": {
    "colab": {
     "base_uri": "https://localhost:8080/"
    },
    "id": "suk95uMUZQTe",
    "outputId": "6ea98da5-8387-450a-f602-e5d5622921ab"
   },
   "outputs": [
    {
     "name": "stdout",
     "output_type": "stream",
     "text": [
      "Drive already mounted at /content/drive; to attempt to forcibly remount, call drive.mount(\"/content/drive\", force_remount=True).\n"
     ]
    }
   ],
   "source": [
    "from google.colab import drive\n",
    "drive.mount('/content/drive')"
   ]
  },
  {
   "cell_type": "code",
   "execution_count": 4,
   "metadata": {
    "id": "6NavNLQVeNQs"
   },
   "outputs": [],
   "source": [
    "import re\n",
    "import torch\n",
    "import torch.nn as nn\n",
    "import torch.optim as optim\n",
    "import torch.nn.functional as F\n",
    "from torchmetrics.functional import f1\n",
    "from string import punctuation\n",
    "from nltk import TweetTokenizer\n",
    "import pandas as pd\n",
    "from collections import Counter\n",
    "from torch.nn.utils.rnn import pad_sequence\n",
    "from sklearn.model_selection import train_test_split\n",
    "from torch.utils.data import Dataset, DataLoader, RandomSampler, SequentialSampler"
   ]
  },
  {
   "cell_type": "code",
   "execution_count": 11,
   "metadata": {
    "id": "wLrW8-IKeNQu"
   },
   "outputs": [],
   "source": [
    "positive_df = pd.read_csv(\"drive/MyDrive/Colab Notebooks/positive.csv\", sep=\";\")"
   ]
  },
  {
   "cell_type": "code",
   "execution_count": 12,
   "metadata": {
    "colab": {
     "base_uri": "https://localhost:8080/",
     "height": 513
    },
    "id": "b0h7Jh5neNQv",
    "outputId": "b968eaa8-ad9a-443e-95c0-ccddc33c72bf"
   },
   "outputs": [
    {
     "data": {
      "text/html": [
       "<div>\n",
       "<style scoped>\n",
       "    .dataframe tbody tr th:only-of-type {\n",
       "        vertical-align: middle;\n",
       "    }\n",
       "\n",
       "    .dataframe tbody tr th {\n",
       "        vertical-align: top;\n",
       "    }\n",
       "\n",
       "    .dataframe thead th {\n",
       "        text-align: right;\n",
       "    }\n",
       "</style>\n",
       "<table border=\"1\" class=\"dataframe\">\n",
       "  <thead>\n",
       "    <tr style=\"text-align: right;\">\n",
       "      <th></th>\n",
       "      <th>tid</th>\n",
       "      <th>tdate</th>\n",
       "      <th>tname</th>\n",
       "      <th>ttext</th>\n",
       "      <th>ttype</th>\n",
       "      <th>trep</th>\n",
       "      <th>trtw</th>\n",
       "      <th>tfav</th>\n",
       "      <th>tstcount</th>\n",
       "      <th>tfoll</th>\n",
       "      <th>tfrien</th>\n",
       "      <th>listcount</th>\n",
       "    </tr>\n",
       "  </thead>\n",
       "  <tbody>\n",
       "    <tr>\n",
       "      <th>0</th>\n",
       "      <td>408906692374446080</td>\n",
       "      <td>1386325927</td>\n",
       "      <td>pleease_shut_up</td>\n",
       "      <td>@first_timee хоть я и школота, но поверь, у на...</td>\n",
       "      <td>1</td>\n",
       "      <td>0</td>\n",
       "      <td>0</td>\n",
       "      <td>0</td>\n",
       "      <td>7569</td>\n",
       "      <td>62</td>\n",
       "      <td>61</td>\n",
       "      <td>0</td>\n",
       "    </tr>\n",
       "    <tr>\n",
       "      <th>1</th>\n",
       "      <td>408906692693221377</td>\n",
       "      <td>1386325927</td>\n",
       "      <td>alinakirpicheva</td>\n",
       "      <td>Да, все-таки он немного похож на него. Но мой ...</td>\n",
       "      <td>1</td>\n",
       "      <td>0</td>\n",
       "      <td>0</td>\n",
       "      <td>0</td>\n",
       "      <td>11825</td>\n",
       "      <td>59</td>\n",
       "      <td>31</td>\n",
       "      <td>2</td>\n",
       "    </tr>\n",
       "    <tr>\n",
       "      <th>2</th>\n",
       "      <td>408906695083954177</td>\n",
       "      <td>1386325927</td>\n",
       "      <td>EvgeshaRe</td>\n",
       "      <td>RT @KatiaCheh: Ну ты идиотка) я испугалась за ...</td>\n",
       "      <td>1</td>\n",
       "      <td>0</td>\n",
       "      <td>1</td>\n",
       "      <td>0</td>\n",
       "      <td>1273</td>\n",
       "      <td>26</td>\n",
       "      <td>27</td>\n",
       "      <td>0</td>\n",
       "    </tr>\n",
       "    <tr>\n",
       "      <th>3</th>\n",
       "      <td>408906695356973056</td>\n",
       "      <td>1386325927</td>\n",
       "      <td>ikonnikova_21</td>\n",
       "      <td>RT @digger2912: \"Кто то в углу сидит и погибае...</td>\n",
       "      <td>1</td>\n",
       "      <td>0</td>\n",
       "      <td>1</td>\n",
       "      <td>0</td>\n",
       "      <td>1549</td>\n",
       "      <td>19</td>\n",
       "      <td>17</td>\n",
       "      <td>0</td>\n",
       "    </tr>\n",
       "    <tr>\n",
       "      <th>4</th>\n",
       "      <td>408906761416867842</td>\n",
       "      <td>1386325943</td>\n",
       "      <td>JumpyAlex</td>\n",
       "      <td>@irina_dyshkant Вот что значит страшилка :D\\nН...</td>\n",
       "      <td>1</td>\n",
       "      <td>0</td>\n",
       "      <td>0</td>\n",
       "      <td>0</td>\n",
       "      <td>597</td>\n",
       "      <td>16</td>\n",
       "      <td>23</td>\n",
       "      <td>1</td>\n",
       "    </tr>\n",
       "  </tbody>\n",
       "</table>\n",
       "</div>"
      ],
      "text/plain": [
       "                  tid       tdate            tname  ... tfoll  tfrien  listcount\n",
       "0  408906692374446080  1386325927  pleease_shut_up  ...    62      61          0\n",
       "1  408906692693221377  1386325927  alinakirpicheva  ...    59      31          2\n",
       "2  408906695083954177  1386325927        EvgeshaRe  ...    26      27          0\n",
       "3  408906695356973056  1386325927    ikonnikova_21  ...    19      17          0\n",
       "4  408906761416867842  1386325943        JumpyAlex  ...    16      23          1\n",
       "\n",
       "[5 rows x 12 columns]"
      ]
     },
     "execution_count": 12,
     "metadata": {},
     "output_type": "execute_result"
    }
   ],
   "source": [
    "positive_df.head()"
   ]
  },
  {
   "cell_type": "code",
   "execution_count": 13,
   "metadata": {
    "id": "sfNnjuSEeNQy"
   },
   "outputs": [],
   "source": [
    "negative_df = pd.read_csv(\"drive/MyDrive/Colab Notebooks/negative.csv\", sep=\";\")"
   ]
  },
  {
   "cell_type": "code",
   "execution_count": 14,
   "metadata": {
    "colab": {
     "base_uri": "https://localhost:8080/",
     "height": 581
    },
    "id": "5c5NKzd7eNQz",
    "outputId": "7c9d368d-bd65-440c-ac53-c91370040ac1"
   },
   "outputs": [
    {
     "data": {
      "text/html": [
       "<div>\n",
       "<style scoped>\n",
       "    .dataframe tbody tr th:only-of-type {\n",
       "        vertical-align: middle;\n",
       "    }\n",
       "\n",
       "    .dataframe tbody tr th {\n",
       "        vertical-align: top;\n",
       "    }\n",
       "\n",
       "    .dataframe thead th {\n",
       "        text-align: right;\n",
       "    }\n",
       "</style>\n",
       "<table border=\"1\" class=\"dataframe\">\n",
       "  <thead>\n",
       "    <tr style=\"text-align: right;\">\n",
       "      <th></th>\n",
       "      <th>tid</th>\n",
       "      <th>tdate</th>\n",
       "      <th>tname</th>\n",
       "      <th>ttext</th>\n",
       "      <th>ttype</th>\n",
       "      <th>trep</th>\n",
       "      <th>trtw</th>\n",
       "      <th>tfav</th>\n",
       "      <th>tstcount</th>\n",
       "      <th>tfoll</th>\n",
       "      <th>tfrien</th>\n",
       "      <th>listcount</th>\n",
       "    </tr>\n",
       "  </thead>\n",
       "  <tbody>\n",
       "    <tr>\n",
       "      <th>0</th>\n",
       "      <td>408906762813579264</td>\n",
       "      <td>1386325944</td>\n",
       "      <td>dugarchikbellko</td>\n",
       "      <td>на работе был полный пиддес :| и так каждое за...</td>\n",
       "      <td>-1</td>\n",
       "      <td>0</td>\n",
       "      <td>0</td>\n",
       "      <td>0</td>\n",
       "      <td>8064</td>\n",
       "      <td>111</td>\n",
       "      <td>94</td>\n",
       "      <td>2</td>\n",
       "    </tr>\n",
       "    <tr>\n",
       "      <th>1</th>\n",
       "      <td>408906818262687744</td>\n",
       "      <td>1386325957</td>\n",
       "      <td>nugemycejela</td>\n",
       "      <td>Коллеги сидят рубятся в Urban terror, а я из-з...</td>\n",
       "      <td>-1</td>\n",
       "      <td>0</td>\n",
       "      <td>0</td>\n",
       "      <td>0</td>\n",
       "      <td>26</td>\n",
       "      <td>42</td>\n",
       "      <td>39</td>\n",
       "      <td>0</td>\n",
       "    </tr>\n",
       "    <tr>\n",
       "      <th>2</th>\n",
       "      <td>408906858515398656</td>\n",
       "      <td>1386325966</td>\n",
       "      <td>4post21</td>\n",
       "      <td>@elina_4post как говорят обещаного три года жд...</td>\n",
       "      <td>-1</td>\n",
       "      <td>0</td>\n",
       "      <td>0</td>\n",
       "      <td>0</td>\n",
       "      <td>718</td>\n",
       "      <td>49</td>\n",
       "      <td>249</td>\n",
       "      <td>0</td>\n",
       "    </tr>\n",
       "    <tr>\n",
       "      <th>3</th>\n",
       "      <td>408906914437685248</td>\n",
       "      <td>1386325980</td>\n",
       "      <td>Poliwake</td>\n",
       "      <td>Желаю хорошего полёта и удачной посадки,я буду...</td>\n",
       "      <td>-1</td>\n",
       "      <td>0</td>\n",
       "      <td>0</td>\n",
       "      <td>0</td>\n",
       "      <td>10628</td>\n",
       "      <td>207</td>\n",
       "      <td>200</td>\n",
       "      <td>0</td>\n",
       "    </tr>\n",
       "    <tr>\n",
       "      <th>4</th>\n",
       "      <td>408906914723295232</td>\n",
       "      <td>1386325980</td>\n",
       "      <td>capyvixowe</td>\n",
       "      <td>Обновил за каким-то лешим surf, теперь не рабо...</td>\n",
       "      <td>-1</td>\n",
       "      <td>0</td>\n",
       "      <td>0</td>\n",
       "      <td>0</td>\n",
       "      <td>35</td>\n",
       "      <td>17</td>\n",
       "      <td>34</td>\n",
       "      <td>0</td>\n",
       "    </tr>\n",
       "  </tbody>\n",
       "</table>\n",
       "</div>"
      ],
      "text/plain": [
       "                  tid       tdate            tname  ... tfoll  tfrien  listcount\n",
       "0  408906762813579264  1386325944  dugarchikbellko  ...   111      94          2\n",
       "1  408906818262687744  1386325957     nugemycejela  ...    42      39          0\n",
       "2  408906858515398656  1386325966          4post21  ...    49     249          0\n",
       "3  408906914437685248  1386325980         Poliwake  ...   207     200          0\n",
       "4  408906914723295232  1386325980       capyvixowe  ...    17      34          0\n",
       "\n",
       "[5 rows x 12 columns]"
      ]
     },
     "execution_count": 14,
     "metadata": {},
     "output_type": "execute_result"
    }
   ],
   "source": [
    "negative_df.head()"
   ]
  },
  {
   "cell_type": "code",
   "execution_count": 15,
   "metadata": {
    "id": "MHF3C-m2eNQz"
   },
   "outputs": [],
   "source": [
    "df = pd.concat([positive_df, negative_df], ignore_index=True)"
   ]
  },
  {
   "cell_type": "code",
   "execution_count": 16,
   "metadata": {
    "id": "sniRyXlneNQ1"
   },
   "outputs": [],
   "source": [
    "df[\"ttype\"] = df[\"ttype\"].replace([-1], 0)"
   ]
  },
  {
   "cell_type": "code",
   "execution_count": 17,
   "metadata": {
    "id": "h9dqC2jGeNQ2"
   },
   "outputs": [],
   "source": [
    "def clean_tokens(tokens):\n",
    "    clean_tokens = []\n",
    "    for token in tokens:\n",
    "        if token not in punctuation:\n",
    "            clean_tokens.append(token)\n",
    "    return clean_tokens"
   ]
  },
  {
   "cell_type": "code",
   "execution_count": 23,
   "metadata": {
    "id": "iIktQiTUeNQ3"
   },
   "outputs": [],
   "source": [
    "tw = TweetTokenizer()"
   ]
  },
  {
   "cell_type": "code",
   "execution_count": 21,
   "metadata": {
    "id": "6WA1Cy_hbFdB"
   },
   "outputs": [],
   "source": [
    "def clean_tokenize(text):\n",
    "    return clean_tokens(tw.tokenize(text))"
   ]
  },
  {
   "cell_type": "code",
   "execution_count": 24,
   "metadata": {
    "id": "csjqr5rEeNQ3"
   },
   "outputs": [],
   "source": [
    "df[\"ttext_tokenized\"] = df[\"ttext\"].apply(clean_tokenize)"
   ]
  },
  {
   "cell_type": "code",
   "execution_count": 26,
   "metadata": {
    "colab": {
     "base_uri": "https://localhost:8080/",
     "height": 513
    },
    "id": "8uk8-kQ9eNQ4",
    "outputId": "af266277-d7f3-4676-fe67-1f2ee64039d0",
    "scrolled": true
   },
   "outputs": [
    {
     "data": {
      "text/html": [
       "<div>\n",
       "<style scoped>\n",
       "    .dataframe tbody tr th:only-of-type {\n",
       "        vertical-align: middle;\n",
       "    }\n",
       "\n",
       "    .dataframe tbody tr th {\n",
       "        vertical-align: top;\n",
       "    }\n",
       "\n",
       "    .dataframe thead th {\n",
       "        text-align: right;\n",
       "    }\n",
       "</style>\n",
       "<table border=\"1\" class=\"dataframe\">\n",
       "  <thead>\n",
       "    <tr style=\"text-align: right;\">\n",
       "      <th></th>\n",
       "      <th>tid</th>\n",
       "      <th>tdate</th>\n",
       "      <th>tname</th>\n",
       "      <th>ttext</th>\n",
       "      <th>ttype</th>\n",
       "      <th>trep</th>\n",
       "      <th>trtw</th>\n",
       "      <th>tfav</th>\n",
       "      <th>tstcount</th>\n",
       "      <th>tfoll</th>\n",
       "      <th>tfrien</th>\n",
       "      <th>listcount</th>\n",
       "      <th>ttext_nopunct</th>\n",
       "      <th>ttext_tokenized</th>\n",
       "    </tr>\n",
       "  </thead>\n",
       "  <tbody>\n",
       "    <tr>\n",
       "      <th>0</th>\n",
       "      <td>408906692374446080</td>\n",
       "      <td>1386325927</td>\n",
       "      <td>pleease_shut_up</td>\n",
       "      <td>@first_timee хоть я и школота, но поверь, у на...</td>\n",
       "      <td>1</td>\n",
       "      <td>0</td>\n",
       "      <td>0</td>\n",
       "      <td>0</td>\n",
       "      <td>7569</td>\n",
       "      <td>62</td>\n",
       "      <td>61</td>\n",
       "      <td>0</td>\n",
       "      <td>firsttimee хоть я и школота но поверь у нас то...</td>\n",
       "      <td>[@first_timee, хоть, я, и, школота, но, поверь...</td>\n",
       "    </tr>\n",
       "    <tr>\n",
       "      <th>1</th>\n",
       "      <td>408906692693221377</td>\n",
       "      <td>1386325927</td>\n",
       "      <td>alinakirpicheva</td>\n",
       "      <td>Да, все-таки он немного похож на него. Но мой ...</td>\n",
       "      <td>1</td>\n",
       "      <td>0</td>\n",
       "      <td>0</td>\n",
       "      <td>0</td>\n",
       "      <td>11825</td>\n",
       "      <td>59</td>\n",
       "      <td>31</td>\n",
       "      <td>2</td>\n",
       "      <td>а все-таки он немного похож на него о мой маль...</td>\n",
       "      <td>[Да, все-таки, он, немного, похож, на, него, Н...</td>\n",
       "    </tr>\n",
       "    <tr>\n",
       "      <th>2</th>\n",
       "      <td>408906695083954177</td>\n",
       "      <td>1386325927</td>\n",
       "      <td>EvgeshaRe</td>\n",
       "      <td>RT @KatiaCheh: Ну ты идиотка) я испугалась за ...</td>\n",
       "      <td>1</td>\n",
       "      <td>0</td>\n",
       "      <td>1</td>\n",
       "      <td>0</td>\n",
       "      <td>1273</td>\n",
       "      <td>26</td>\n",
       "      <td>27</td>\n",
       "      <td>0</td>\n",
       "      <td>atiaheh у ты идиотка я испугалась за тебя</td>\n",
       "      <td>[RT, @KatiaCheh, Ну, ты, идиотка, я, испугалас...</td>\n",
       "    </tr>\n",
       "    <tr>\n",
       "      <th>3</th>\n",
       "      <td>408906695356973056</td>\n",
       "      <td>1386325927</td>\n",
       "      <td>ikonnikova_21</td>\n",
       "      <td>RT @digger2912: \"Кто то в углу сидит и погибае...</td>\n",
       "      <td>1</td>\n",
       "      <td>0</td>\n",
       "      <td>1</td>\n",
       "      <td>0</td>\n",
       "      <td>1549</td>\n",
       "      <td>19</td>\n",
       "      <td>17</td>\n",
       "      <td>0</td>\n",
       "      <td>digger то то в углу сидит и погибает от голод...</td>\n",
       "      <td>[RT, @digger2912, Кто, то, в, углу, сидит, и, ...</td>\n",
       "    </tr>\n",
       "    <tr>\n",
       "      <th>4</th>\n",
       "      <td>408906761416867842</td>\n",
       "      <td>1386325943</td>\n",
       "      <td>JumpyAlex</td>\n",
       "      <td>@irina_dyshkant Вот что значит страшилка :D\\nН...</td>\n",
       "      <td>1</td>\n",
       "      <td>0</td>\n",
       "      <td>0</td>\n",
       "      <td>0</td>\n",
       "      <td>597</td>\n",
       "      <td>16</td>\n",
       "      <td>23</td>\n",
       "      <td>1</td>\n",
       "      <td>irinadyshkant от что значит страшилка о блинпо...</td>\n",
       "      <td>[@irina_dyshkant, Вот, что, значит, страшилка,...</td>\n",
       "    </tr>\n",
       "  </tbody>\n",
       "</table>\n",
       "</div>"
      ],
      "text/plain": [
       "                  tid  ...                                    ttext_tokenized\n",
       "0  408906692374446080  ...  [@first_timee, хоть, я, и, школота, но, поверь...\n",
       "1  408906692693221377  ...  [Да, все-таки, он, немного, похож, на, него, Н...\n",
       "2  408906695083954177  ...  [RT, @KatiaCheh, Ну, ты, идиотка, я, испугалас...\n",
       "3  408906695356973056  ...  [RT, @digger2912, Кто, то, в, углу, сидит, и, ...\n",
       "4  408906761416867842  ...  [@irina_dyshkant, Вот, что, значит, страшилка,...\n",
       "\n",
       "[5 rows x 14 columns]"
      ]
     },
     "execution_count": 26,
     "metadata": {},
     "output_type": "execute_result"
    }
   ],
   "source": [
    "df.head()"
   ]
  },
  {
   "cell_type": "code",
   "execution_count": 27,
   "metadata": {
    "id": "w45CdD-AeNQ6"
   },
   "outputs": [],
   "source": [
    "train_data, val_data = train_test_split(df, test_size=0.2)"
   ]
  },
  {
   "cell_type": "code",
   "execution_count": 28,
   "metadata": {
    "colab": {
     "base_uri": "https://localhost:8080/"
    },
    "id": "JGhGo_E_eNQ7",
    "outputId": "e5ab283e-363b-446d-acd9-f6833e25703c",
    "scrolled": false
   },
   "outputs": [
    {
     "name": "stdout",
     "output_type": "stream",
     "text": [
      "всего уникальных токенов: 302593\n"
     ]
    }
   ],
   "source": [
    "vocab = Counter()\n",
    "for tokens in df['ttext_tokenized']:\n",
    "    vocab.update(list([token.lower() for token in tokens]))\n",
    "print('всего уникальных токенов:', len(vocab))"
   ]
  },
  {
   "cell_type": "code",
   "execution_count": 29,
   "metadata": {
    "id": "Txbkh_zReNRH"
   },
   "outputs": [],
   "source": [
    "filtered_vocab = set()\n",
    "\n",
    "for token in vocab:\n",
    "    if vocab[token] > 10:\n",
    "        filtered_vocab.add(token)"
   ]
  },
  {
   "cell_type": "code",
   "execution_count": 30,
   "metadata": {
    "colab": {
     "base_uri": "https://localhost:8080/"
    },
    "id": "JQHOWpT3eNRI",
    "outputId": "2d1e7a35-2e84-4d52-8cf3-66370a113a86"
   },
   "outputs": [
    {
     "data": {
      "text/plain": [
       "17767"
      ]
     },
     "execution_count": 30,
     "metadata": {},
     "output_type": "execute_result"
    }
   ],
   "source": [
    "len(filtered_vocab)"
   ]
  },
  {
   "cell_type": "code",
   "execution_count": 89,
   "metadata": {
    "id": "KXneE7L5eNRK"
   },
   "outputs": [],
   "source": [
    "token2id = {'PAD':0}\n",
    "\n",
    "for token in filtered_vocab:\n",
    "    token2id[token] = len(token2id)"
   ]
  },
  {
   "cell_type": "code",
   "execution_count": 91,
   "metadata": {
    "id": "HqsM5tHQeNRL"
   },
   "outputs": [],
   "source": [
    "id2token = {i:token for token, i in token2id.items()}"
   ]
  },
  {
   "cell_type": "code",
   "execution_count": 33,
   "metadata": {
    "colab": {
     "base_uri": "https://localhost:8080/"
    },
    "id": "lEuI1Ns4eNRL",
    "outputId": "310d5b72-20d8-4a9f-9bcb-d9e5427de7f7"
   },
   "outputs": [
    {
     "data": {
      "text/plain": [
       "device(type='cuda')"
      ]
     },
     "execution_count": 33,
     "metadata": {},
     "output_type": "execute_result"
    }
   ],
   "source": [
    "DEVICE = torch.device('cuda') if torch.cuda.is_available() else torch.device('cpu')\n",
    "DEVICE"
   ]
  },
  {
   "cell_type": "code",
   "execution_count": 205,
   "metadata": {
    "id": "hI4YGhU3eNRL"
   },
   "outputs": [],
   "source": [
    "class TweetDataset(Dataset):\n",
    "\n",
    "    def __init__(self, dataset, symbol2id, DEVICE):\n",
    "        self.dataset = dataset['ttext_tokenized'].values\n",
    "        self.token2id = token2id\n",
    "        self.length = dataset.shape[0]\n",
    "        self.target = dataset['ttype'].values\n",
    "        self.device = DEVICE\n",
    "\n",
    "    def __len__(self):\n",
    "        return self.length\n",
    "\n",
    "    def __getitem__(self, index): \n",
    "        tokens = list(self.dataset[index])\n",
    "        ids = torch.LongTensor([self.token2id[token] for token in tokens if token in self.token2id])\n",
    "        y = [self.target[index]]\n",
    "        return ids, y\n",
    "\n",
    "    def collate_fn(self, batch):\n",
    "        ids, y = list(zip(*batch))\n",
    "        padded_ids = pad_sequence(ids, batch_first=True).to(self.device)\n",
    "        y = torch.Tensor(y).to(self.device)\n",
    "        return padded_ids, y"
   ]
  },
  {
   "cell_type": "code",
   "execution_count": 206,
   "metadata": {
    "id": "UQWcKpA-eNRM"
   },
   "outputs": [],
   "source": [
    "train_dataset = TweetDataset(train_data, token2id, DEVICE)\n",
    "train_sampler = RandomSampler(train_dataset)\n",
    "train_iterator = DataLoader(train_dataset, collate_fn=train_dataset.collate_fn, sampler=train_sampler, batch_size=1024)"
   ]
  },
  {
   "cell_type": "code",
   "execution_count": 207,
   "metadata": {
    "id": "g8EnH2WneNRM"
   },
   "outputs": [],
   "source": [
    "batch = next(iter(train_iterator))"
   ]
  },
  {
   "cell_type": "code",
   "execution_count": 208,
   "metadata": {
    "colab": {
     "base_uri": "https://localhost:8080/"
    },
    "id": "Fc1T2vroeNRN",
    "outputId": "13be2ccc-c321-4f28-ac60-f7c8b410ccca",
    "scrolled": true
   },
   "outputs": [
    {
     "data": {
      "text/plain": [
       "['нас',\n",
       " 'не',\n",
       " 'столько',\n",
       " 'тепло',\n",
       " 'а',\n",
       " 'больше',\n",
       " 'мерзко',\n",
       " 'мне',\n",
       " 'кажется',\n",
       " 'соответствует',\n",
       " 'состоянию',\n",
       " 'душ',\n",
       " 'людей',\n",
       " 'здесь',\n",
       " 'PAD',\n",
       " 'PAD',\n",
       " 'PAD',\n",
       " 'PAD',\n",
       " 'PAD',\n",
       " 'PAD',\n",
       " 'PAD',\n",
       " 'PAD',\n",
       " 'PAD',\n",
       " 'PAD',\n",
       " 'PAD']"
      ]
     },
     "execution_count": 208,
     "metadata": {},
     "output_type": "execute_result"
    }
   ],
   "source": [
    "[id2token[int(i)] for i in batch[0][0]]"
   ]
  },
  {
   "cell_type": "code",
   "execution_count": 209,
   "metadata": {
    "colab": {
     "base_uri": "https://localhost:8080/"
    },
    "id": "YmU4FSyMeNRO",
    "outputId": "03c558c9-d5ac-4f03-f349-ac34dcf1443d",
    "scrolled": true
   },
   "outputs": [
    {
     "data": {
      "text/plain": [
       "tensor([[0.],\n",
       "        [0.],\n",
       "        [1.],\n",
       "        ...,\n",
       "        [1.],\n",
       "        [0.],\n",
       "        [1.]], device='cuda:0')"
      ]
     },
     "execution_count": 209,
     "metadata": {},
     "output_type": "execute_result"
    }
   ],
   "source": [
    "batch[1]"
   ]
  },
  {
   "cell_type": "code",
   "execution_count": 210,
   "metadata": {
    "id": "Al47NGYUeNRO"
   },
   "outputs": [],
   "source": [
    "val_dataset = TweetDataset(val_data, token2id, DEVICE)\n",
    "val_sampler = SequentialSampler(val_dataset)\n",
    "val_iterator = DataLoader(val_dataset, collate_fn = val_dataset.collate_fn, sampler=val_sampler, batch_size=1024)"
   ]
  },
  {
   "cell_type": "code",
   "execution_count": 211,
   "metadata": {
    "colab": {
     "base_uri": "https://localhost:8080/"
    },
    "id": "gno3dL6NeNRO",
    "outputId": "5994daa2-d868-49bc-ba18-65db81073202"
   },
   "outputs": [
    {
     "data": {
      "text/plain": [
       "torch.Size([1024, 27])"
      ]
     },
     "execution_count": 211,
     "metadata": {},
     "output_type": "execute_result"
    }
   ],
   "source": [
    "test_batch = next(iter(val_iterator))\n",
    "test_batch[0].shape"
   ]
  },
  {
   "cell_type": "code",
   "execution_count": 212,
   "metadata": {
    "colab": {
     "base_uri": "https://localhost:8080/"
    },
    "id": "OrDeeyhi49cS",
    "outputId": "5872948d-fdc7-46cf-d3a7-dbc795696aed"
   },
   "outputs": [
    {
     "data": {
      "text/plain": [
       "torch.Size([1024, 1])"
      ]
     },
     "execution_count": 212,
     "metadata": {},
     "output_type": "execute_result"
    }
   ],
   "source": [
    "test_batch[1].shape"
   ]
  },
  {
   "cell_type": "code",
   "execution_count": 213,
   "metadata": {
    "id": "3B96sqfKeNRP"
   },
   "outputs": [],
   "source": [
    "class CNN(nn.Module):\n",
    "    \n",
    "    def __init__(self, vocab_size, embedding_dim):\n",
    "        super().__init__()\n",
    "        self.embedding = nn.Embedding(vocab_size, embedding_dim)\n",
    "        self.bigrams = nn.Conv1d(in_channels=embedding_dim, out_channels=100, kernel_size=2, padding='same')\n",
    "        self.trigrams = nn.Conv1d(in_channels=embedding_dim, out_channels=80, kernel_size=3, padding='same')\n",
    "        self.bigrams2 = nn.Conv1d(in_channels=180, out_channels=100, kernel_size=2, padding='same')\n",
    "        self.pooling = nn.MaxPool1d(kernel_size=2, stride=2)\n",
    "        self.hidden = nn.Linear(in_features=100, out_features=1)\n",
    "        self.out = nn.Sigmoid()\n",
    "    \n",
    "    def forward(self, word):\n",
    "        embedded = self.embedding(word)\n",
    "        embedded = embedded.transpose(1,2)\n",
    "        feature_map_bigrams = self.bigrams(embedded)\n",
    "        feature_map_trigrams = self.trigrams(embedded)\n",
    "        concat = torch.cat((feature_map_bigrams, feature_map_trigrams), 1)\n",
    "        concat_bigrams = self.bigrams2(concat)\n",
    "        pooling = self.pooling(concat_bigrams)\n",
    "        pooling = pooling.max(2)[0]\n",
    "\n",
    "        logits = self.hidden(pooling) \n",
    "        logits = self.out(logits)      \n",
    "        return logits"
   ]
  },
  {
   "cell_type": "code",
   "execution_count": 214,
   "metadata": {
    "colab": {
     "base_uri": "https://localhost:8080/"
    },
    "id": "OlFa4ksReNRT",
    "outputId": "63c4477f-14d2-4e5c-9911-318cca2f3954"
   },
   "outputs": [
    {
     "name": "stdout",
     "output_type": "stream",
     "text": [
      "tensor([[10442, 15714, 13853,  ...,     0,     0,     0],\n",
      "        [11135, 17440,  5488,  ...,     0,     0,     0],\n",
      "        [ 5488,  4470, 15684,  ...,     0,     0,     0],\n",
      "        ...,\n",
      "        [13322,  2972,  1081,  ...,     0,     0,     0],\n",
      "        [ 1528, 13060,   262,  ...,     0,     0,     0],\n",
      "        [10851,  5488,   680,  ...,     0,     0,     0]])\n"
     ]
    }
   ],
   "source": [
    "batch, y = next(iter(train_iterator))\n",
    "batch, y = batch.to(device='cpu'), y.to(device='cpu')\n",
    "print(batch)"
   ]
  },
  {
   "cell_type": "code",
   "execution_count": 215,
   "metadata": {
    "id": "JJdGOdQreNRU"
   },
   "outputs": [],
   "source": [
    "loss = nn.BCELoss()"
   ]
  },
  {
   "cell_type": "code",
   "execution_count": 216,
   "metadata": {
    "id": "gc51YIhweNRV"
   },
   "outputs": [],
   "source": [
    "def train(model, iterator, optimizer, criterion):\n",
    "    epoch_loss = 0\n",
    "\n",
    "    model.train()\n",
    "\n",
    "    for i, (texts, ys) in enumerate(iterator):\n",
    "        optimizer.zero_grad()\n",
    "        preds = model(texts)\n",
    "        loss = criterion(preds, ys)\n",
    "        loss.backward()\n",
    "        optimizer.step()\n",
    "        epoch_loss += loss.item() \n",
    "        if not (i + 1) % int(len(iterator)/5):\n",
    "            print(f'Train loss: {epoch_loss/i}')      \n",
    "    return  epoch_loss / len(iterator)"
   ]
  },
  {
   "cell_type": "code",
   "execution_count": 217,
   "metadata": {
    "id": "qka06waUeNRV"
   },
   "outputs": [],
   "source": [
    "def evaluate(model, iterator, criterion):\n",
    "    epoch_loss = 0\n",
    "    epoch_metric = 0\n",
    "    model.eval() \n",
    "    with torch.no_grad():\n",
    "        for i, (texts, ys) in enumerate(iterator):   \n",
    "            preds = model(texts)\n",
    "            loss = criterion(preds, ys)\n",
    "            epoch_loss += loss.item()\n",
    "            batch_metric = f1(preds.round().long(), ys.long(), ignore_index=0)\n",
    "            epoch_metric += batch_metric\n",
    "\n",
    "            if not (i + 1) % int(len(iterator)/5):\n",
    "                print(f'Val loss: {epoch_loss/i}, Val f1: {epoch_metric/i}')\n",
    "        \n",
    "    return epoch_metric / len(iterator), epoch_loss / len(iterator) # возвращаем среднее значение по всей выборке"
   ]
  },
  {
   "cell_type": "code",
   "execution_count": 218,
   "metadata": {
    "id": "PVUAzxWJeNRV"
   },
   "outputs": [],
   "source": [
    "model = CNN(len(token2id), 64)\n",
    "optimizer = optim.Adam(model.parameters(), lr=0.0005)\n",
    "criterion = nn.BCELoss()"
   ]
  },
  {
   "cell_type": "code",
   "execution_count": 219,
   "metadata": {
    "id": "er4zMCZjeNRV"
   },
   "outputs": [],
   "source": [
    "model = model.to(DEVICE)\n",
    "criterion = criterion.to(DEVICE)"
   ]
  },
  {
   "cell_type": "code",
   "execution_count": 220,
   "metadata": {
    "id": "ktJhEyOKeNRW"
   },
   "outputs": [],
   "source": [
    "def train_and_evaluate(model, t_iterator, v_iterator, optimizer, criterion, epochs=20):\n",
    "    losses = []\n",
    "    losses_eval = []\n",
    "    f1s = []\n",
    "    f1s_eval = []\n",
    "\n",
    "    for i in range(epochs):\n",
    "        print(f'\\nstarting Epoch {i}')\n",
    "        print('Training...')\n",
    "        epoch_loss = train(model, t_iterator, optimizer, criterion)\n",
    "        losses.append(epoch_loss)\n",
    "        print('\\nEvaluating on train...')\n",
    "        f1_on_train,_ = evaluate(model, t_iterator, criterion)\n",
    "        f1s.append(f1_on_train)\n",
    "        print('\\nEvaluating on test...')\n",
    "        f1_on_test, epoch_loss_on_test = evaluate(model, v_iterator, criterion)\n",
    "        losses_eval.append(epoch_loss_on_test)\n",
    "        f1s_eval.append(f1_on_test)\n",
    "    return losses, losses_eval, f1s, f1s_eval"
   ]
  },
  {
   "cell_type": "code",
   "execution_count": 221,
   "metadata": {
    "colab": {
     "base_uri": "https://localhost:8080/"
    },
    "id": "iiikGM7RcAGQ",
    "outputId": "f7832ccd-7d7c-470d-baa5-5973078bc8d2"
   },
   "outputs": [
    {
     "name": "stdout",
     "output_type": "stream",
     "text": [
      "\n",
      "starting Epoch 0\n",
      "Training...\n",
      "Train loss: 0.5958426296710968\n",
      "Train loss: 0.5426107260628023\n",
      "Train loss: 0.5170400050970224\n",
      "Train loss: 0.5012678323889808\n",
      "Train loss: 0.49077561292155036\n",
      "\n",
      "Evaluating on train...\n",
      "Val loss: 0.450553958030308, Val f1: 0.8013055324554443\n",
      "Val loss: 0.4410050196060236, Val f1: 0.7909575700759888\n",
      "Val loss: 0.4390820829341045, Val f1: 0.7865371108055115\n",
      "Val loss: 0.43675150502499915, Val f1: 0.7858590483665466\n",
      "Val loss: 0.4365836638828804, Val f1: 0.7845079302787781\n",
      "\n",
      "Evaluating on test...\n",
      "Val loss: 0.4963986650109291, Val f1: 0.8618367314338684\n",
      "Val loss: 0.46328409103786244, Val f1: 0.8185535073280334\n",
      "Val loss: 0.45755846454547, Val f1: 0.8020468950271606\n",
      "Val loss: 0.451433994940349, Val f1: 0.7950359582901001\n",
      "Val loss: 0.4484576176513325, Val f1: 0.7902715802192688\n",
      "\n",
      "starting Epoch 1\n",
      "Training...\n",
      "Train loss: 0.44221092672909007\n",
      "Train loss: 0.43418366753536725\n",
      "Train loss: 0.42960279148358566\n",
      "Train loss: 0.4281327597957721\n",
      "Train loss: 0.42554233266019276\n",
      "\n",
      "Evaluating on train...\n",
      "Val loss: 0.41427812243209167, Val f1: 0.8209621906280518\n",
      "Val loss: 0.40990009040072345, Val f1: 0.8062617182731628\n",
      "Val loss: 0.4080056267289015, Val f1: 0.8026204705238342\n",
      "Val loss: 0.4067404156537365, Val f1: 0.8012309670448303\n",
      "Val loss: 0.40617916107862845, Val f1: 0.799227774143219\n",
      "\n",
      "Evaluating on test...\n",
      "Val loss: 0.47046440467238426, Val f1: 0.8705458045005798\n",
      "Val loss: 0.4397399302791147, Val f1: 0.82501220703125\n",
      "Val loss: 0.4355158702685283, Val f1: 0.8074831366539001\n",
      "Val loss: 0.4294509947299957, Val f1: 0.8017886281013489\n",
      "Val loss: 0.4267410635948181, Val f1: 0.796395480632782\n",
      "\n",
      "starting Epoch 2\n",
      "Training...\n",
      "Train loss: 0.4169967078110751\n",
      "Train loss: 0.4082865019639333\n",
      "Train loss: 0.40522349912386674\n",
      "Train loss: 0.403989417304238\n",
      "Train loss: 0.40220122638790085\n",
      "\n",
      "Evaluating on train...\n",
      "Val loss: 0.39775725234957304, Val f1: 0.8242021203041077\n",
      "Val loss: 0.3917462458645088, Val f1: 0.8125330805778503\n",
      "Val loss: 0.3903530538082123, Val f1: 0.8082506060600281\n",
      "Val loss: 0.3886559650623541, Val f1: 0.8067262768745422\n",
      "Val loss: 0.3875117454378084, Val f1: 0.8060927987098694\n",
      "\n",
      "Evaluating on test...\n",
      "Val loss: 0.4591536298394203, Val f1: 0.8747442364692688\n",
      "Val loss: 0.42985503287876353, Val f1: 0.8263543248176575\n",
      "Val loss: 0.42629715456412387, Val f1: 0.8070646524429321\n",
      "Val loss: 0.4200704208442143, Val f1: 0.801932156085968\n",
      "Val loss: 0.4175346039912917, Val f1: 0.7962550520896912\n",
      "\n",
      "starting Epoch 3\n",
      "Training...\n",
      "Train loss: 0.3934566238347222\n",
      "Train loss: 0.3876981320588485\n",
      "Train loss: 0.38659073842259556\n",
      "Train loss: 0.38521289653915297\n",
      "Train loss: 0.38366032006411716\n",
      "\n",
      "Evaluating on train...\n",
      "Val loss: 0.3783324203070472, Val f1: 0.8521924018859863\n",
      "Val loss: 0.37064723303352576, Val f1: 0.8426185250282288\n",
      "Val loss: 0.37015403090761256, Val f1: 0.8375142216682434\n",
      "Val loss: 0.3686222183189804, Val f1: 0.835601806640625\n",
      "Val loss: 0.3682423759808486, Val f1: 0.8345104455947876\n",
      "\n",
      "Evaluating on test...\n",
      "Val loss: 0.4508928172290325, Val f1: 0.8984439373016357\n",
      "Val loss: 0.4210350162842694, Val f1: 0.8494938015937805\n",
      "Val loss: 0.4168197031204517, Val f1: 0.8325536847114563\n",
      "Val loss: 0.41102774568966455, Val f1: 0.8253676891326904\n",
      "Val loss: 0.40880242599682376, Val f1: 0.8203245997428894\n",
      "\n",
      "starting Epoch 4\n",
      "Training...\n",
      "Train loss: 0.3737199727226706\n",
      "Train loss: 0.37079606108043506\n",
      "Train loss: 0.3688451802501312\n",
      "Train loss: 0.3678182878082605\n",
      "Train loss: 0.367069480234179\n",
      "\n",
      "Evaluating on train...\n",
      "Val loss: 0.3553728338550119, Val f1: 0.8644715547561646\n",
      "Val loss: 0.35135871906211413, Val f1: 0.8513751029968262\n",
      "Val loss: 0.3514679091481062, Val f1: 0.8452262282371521\n",
      "Val loss: 0.3508893146360521, Val f1: 0.8431100845336914\n",
      "Val loss: 0.3508183754038537, Val f1: 0.8413345217704773\n",
      "\n",
      "Evaluating on test...\n",
      "Val loss: 0.44255171716213226, Val f1: 0.8958202004432678\n",
      "Val loss: 0.4133812452063841, Val f1: 0.8487902879714966\n",
      "Val loss: 0.410018476156088, Val f1: 0.8307899832725525\n",
      "Val loss: 0.40426322477204457, Val f1: 0.8242941498756409\n",
      "Val loss: 0.40172774412415246, Val f1: 0.8197818398475647\n",
      "\n",
      "starting Epoch 5\n",
      "Training...\n",
      "Train loss: 0.35964518434861126\n",
      "Train loss: 0.35427254395208496\n",
      "Train loss: 0.35269299092201084\n",
      "Train loss: 0.3521231209202636\n",
      "Train loss: 0.3527466072433296\n",
      "\n",
      "Evaluating on train...\n",
      "Val loss: 0.34337259390774894, Val f1: 0.8692338466644287\n",
      "Val loss: 0.33958183898442035, Val f1: 0.856002926826477\n",
      "Val loss: 0.3377845264398135, Val f1: 0.8521024584770203\n",
      "Val loss: 0.3363313222531792, Val f1: 0.8504385948181152\n",
      "Val loss: 0.3364033890866685, Val f1: 0.8488935232162476\n",
      "\n",
      "Evaluating on test...\n",
      "Val loss: 0.4377150423824787, Val f1: 0.8965246081352234\n",
      "Val loss: 0.40884589623002443, Val f1: 0.8492632508277893\n",
      "Val loss: 0.40600266938026136, Val f1: 0.831250011920929\n",
      "Val loss: 0.40049819775990075, Val f1: 0.825396716594696\n",
      "Val loss: 0.39799839461391623, Val f1: 0.8195748925209045\n",
      "\n",
      "starting Epoch 6\n",
      "Training...\n",
      "Train loss: 0.34524267298333783\n",
      "Train loss: 0.34257462577543396\n",
      "Train loss: 0.3396695823623584\n",
      "Train loss: 0.3391191003133925\n",
      "Train loss: 0.33899449531374304\n",
      "\n",
      "Evaluating on train...\n",
      "Val loss: 0.3316176191848867, Val f1: 0.8769639134407043\n",
      "Val loss: 0.3241165707940641, Val f1: 0.8650992512702942\n",
      "Val loss: 0.3239121288061142, Val f1: 0.8609833717346191\n",
      "Val loss: 0.32361038790332325, Val f1: 0.8589135408401489\n",
      "Val loss: 0.3227771344198578, Val f1: 0.8581743836402893\n",
      "\n",
      "Evaluating on test...\n",
      "Val loss: 0.43818074092268944, Val f1: 0.8989778161048889\n",
      "Val loss: 0.4082707464694977, Val f1: 0.8542988896369934\n",
      "Val loss: 0.40592003900271195, Val f1: 0.8354586958885193\n",
      "Val loss: 0.40020928382873533, Val f1: 0.8290432691574097\n",
      "Val loss: 0.398071100088683, Val f1: 0.8238189220428467\n",
      "\n",
      "starting Epoch 7\n",
      "Training...\n",
      "Train loss: 0.33110661015791054\n",
      "Train loss: 0.32788412640060205\n",
      "Train loss: 0.3269759654425658\n",
      "Train loss: 0.32637667870350023\n",
      "Train loss: 0.32689655649250954\n",
      "\n",
      "Evaluating on train...\n",
      "Val loss: 0.3176950286416447, Val f1: 0.8889337778091431\n",
      "Val loss: 0.3161115978938946, Val f1: 0.8726307153701782\n",
      "Val loss: 0.3125772671057628, Val f1: 0.8702803254127502\n",
      "Val loss: 0.31230085294881316, Val f1: 0.8672987818717957\n",
      "Val loss: 0.3116535258361663, Val f1: 0.8665189146995544\n",
      "\n",
      "Evaluating on test...\n",
      "Val loss: 0.43904802203178406, Val f1: 0.9078379273414612\n",
      "Val loss: 0.40997320939512816, Val f1: 0.8608437776565552\n",
      "Val loss: 0.40796919052417463, Val f1: 0.8425832986831665\n",
      "Val loss: 0.40249116505895344, Val f1: 0.8350299000740051\n",
      "Val loss: 0.40048992701552133, Val f1: 0.8296231627464294\n",
      "\n",
      "starting Epoch 8\n",
      "Training...\n",
      "Train loss: 0.3163209566298653\n",
      "Train loss: 0.3147606646669084\n",
      "Train loss: 0.31508376649939096\n",
      "Train loss: 0.31489622807331225\n",
      "Train loss: 0.3144775142614869\n",
      "\n",
      "Evaluating on train...\n",
      "Val loss: 0.30601151462863474, Val f1: 0.8900803327560425\n",
      "Val loss: 0.30172963116479956, Val f1: 0.8794752955436707\n",
      "Val loss: 0.3001358208174889, Val f1: 0.8741915822029114\n",
      "Val loss: 0.3002520364394291, Val f1: 0.8712400197982788\n",
      "Val loss: 0.3000114315200126, Val f1: 0.8696125149726868\n",
      "\n",
      "Evaluating on test...\n",
      "Val loss: 0.4421343430876732, Val f1: 0.8940964937210083\n",
      "Val loss: 0.41170478918973136, Val f1: 0.8489015698432922\n",
      "Val loss: 0.40954582393169403, Val f1: 0.8294335007667542\n",
      "Val loss: 0.4036229567868369, Val f1: 0.8227189779281616\n",
      "Val loss: 0.40096343240954657, Val f1: 0.8176450133323669\n",
      "\n",
      "starting Epoch 9\n",
      "Training...\n",
      "Train loss: 0.3070938552127165\n",
      "Train loss: 0.30258998620337335\n",
      "Train loss: 0.3033446999123463\n",
      "Train loss: 0.303822658259234\n",
      "Train loss: 0.3034257001575382\n",
      "\n",
      "Evaluating on train...\n",
      "Val loss: 0.29297662219580484, Val f1: 0.9011502265930176\n",
      "Val loss: 0.2892815133799677, Val f1: 0.8864538669586182\n",
      "Val loss: 0.28844772479855096, Val f1: 0.8823986649513245\n",
      "Val loss: 0.2868068951496975, Val f1: 0.8804266452789307\n",
      "Val loss: 0.2865309365864458, Val f1: 0.8794047832489014\n",
      "\n",
      "Evaluating on test...\n",
      "Val loss: 0.4422258324921131, Val f1: 0.9022680521011353\n",
      "Val loss: 0.4117492560078116, Val f1: 0.8562612533569336\n",
      "Val loss: 0.4101683852764276, Val f1: 0.8366496562957764\n",
      "Val loss: 0.4041676572390965, Val f1: 0.8302886486053467\n",
      "Val loss: 0.40164210308681836, Val f1: 0.8249425292015076\n",
      "\n",
      "starting Epoch 10\n",
      "Training...\n",
      "Train loss: 0.29724133189986734\n",
      "Train loss: 0.29425223754799884\n",
      "Train loss: 0.2929411375751862\n",
      "Train loss: 0.29190733814411024\n",
      "Train loss: 0.2929130071538618\n",
      "\n",
      "Evaluating on train...\n",
      "Val loss: 0.28549981467864094, Val f1: 0.9034433364868164\n",
      "Val loss: 0.2794899569041487, Val f1: 0.8914724588394165\n",
      "Val loss: 0.27859382403011507, Val f1: 0.886893093585968\n",
      "Val loss: 0.27716953023303326, Val f1: 0.8854120373725891\n",
      "Val loss: 0.2763882386444629, Val f1: 0.8847277164459229\n",
      "\n",
      "Evaluating on test...\n",
      "Val loss: 0.44628749415278435, Val f1: 0.8983457088470459\n",
      "Val loss: 0.41479504283736734, Val f1: 0.8536546230316162\n",
      "Val loss: 0.41345863617383516, Val f1: 0.8344917893409729\n",
      "Val loss: 0.4071598836353847, Val f1: 0.82804274559021\n",
      "Val loss: 0.4049891944635998, Val f1: 0.8221534490585327\n",
      "\n",
      "starting Epoch 11\n",
      "Training...\n",
      "Train loss: 0.28925488889217377\n",
      "Train loss: 0.28252132776854694\n",
      "Train loss: 0.281963675067975\n",
      "Train loss: 0.28228514357436474\n",
      "Train loss: 0.28252276709710045\n",
      "\n",
      "Evaluating on train...\n",
      "Val loss: 0.27106625016997843, Val f1: 0.9125878810882568\n",
      "Val loss: 0.2676558505365814, Val f1: 0.8996681571006775\n",
      "Val loss: 0.2663208839411919, Val f1: 0.8950492143630981\n",
      "Val loss: 0.2659504505798971, Val f1: 0.8929683566093445\n",
      "Val loss: 0.265123160234813, Val f1: 0.8914216756820679\n",
      "\n",
      "Evaluating on test...\n",
      "Val loss: 0.4493868350982666, Val f1: 0.9039197564125061\n",
      "Val loss: 0.4172990304582259, Val f1: 0.8589639067649841\n",
      "Val loss: 0.4169117292532554, Val f1: 0.8394747972488403\n",
      "Val loss: 0.41122066804340907, Val f1: 0.8320249915122986\n",
      "Val loss: 0.4091367945075035, Val f1: 0.8262704610824585\n",
      "\n",
      "starting Epoch 12\n",
      "Training...\n",
      "Train loss: 0.2740701708723517\n",
      "Train loss: 0.2710750740075457\n",
      "Train loss: 0.2717052480349174\n",
      "Train loss: 0.27301872698523155\n",
      "Train loss: 0.2718241237874689\n",
      "\n",
      "Evaluating on train...\n",
      "Val loss: 0.25992341953165393, Val f1: 0.9187217354774475\n",
      "Val loss: 0.2560964818449988, Val f1: 0.9056456089019775\n",
      "Val loss: 0.25547219168108243, Val f1: 0.901278555393219\n",
      "Val loss: 0.2540956171725294, Val f1: 0.8990999460220337\n",
      "Val loss: 0.2543826803736303, Val f1: 0.8972135782241821\n",
      "\n",
      "Evaluating on test...\n",
      "Val loss: 0.45499901100993156, Val f1: 0.9022440314292908\n",
      "Val loss: 0.42263205086483674, Val f1: 0.8582512140274048\n",
      "Val loss: 0.42167159685721767, Val f1: 0.8383424878120422\n",
      "Val loss: 0.4157154142856598, Val f1: 0.8312201499938965\n",
      "Val loss: 0.4134422947059978, Val f1: 0.8247979283332825\n",
      "\n",
      "starting Epoch 13\n",
      "Training...\n",
      "Train loss: 0.26197947824702544\n",
      "Train loss: 0.25826916616895923\n",
      "Train loss: 0.2596632316708565\n",
      "Train loss: 0.2610778094624444\n",
      "Train loss: 0.26191085174508477\n",
      "\n",
      "Evaluating on train...\n",
      "Val loss: 0.25296810751452165, Val f1: 0.924430251121521\n",
      "Val loss: 0.2498207930205525, Val f1: 0.9087532162666321\n",
      "Val loss: 0.24720232675854975, Val f1: 0.9045625329017639\n",
      "Val loss: 0.24642807406058415, Val f1: 0.9021674990653992\n",
      "Val loss: 0.24622864798567762, Val f1: 0.9004536867141724\n",
      "\n",
      "Evaluating on test...\n",
      "Val loss: 0.460357878357172, Val f1: 0.8933008909225464\n",
      "Val loss: 0.4289527623092427, Val f1: 0.850329577922821\n",
      "Val loss: 0.4285146857683475, Val f1: 0.8299615979194641\n",
      "Val loss: 0.4220185850347791, Val f1: 0.823611319065094\n",
      "Val loss: 0.41969968243078754, Val f1: 0.8184812068939209\n",
      "\n",
      "starting Epoch 14\n",
      "Training...\n",
      "Train loss: 0.2537592745879117\n",
      "Train loss: 0.251404983193978\n",
      "Train loss: 0.2505610123849832\n",
      "Train loss: 0.2506380591461127\n",
      "Train loss: 0.2517982919154496\n",
      "\n",
      "Evaluating on train...\n",
      "Val loss: 0.23930204878835118, Val f1: 0.9296686053276062\n",
      "Val loss: 0.23684216366297955, Val f1: 0.9157913327217102\n",
      "Val loss: 0.2356409398982158, Val f1: 0.9112532138824463\n",
      "Val loss: 0.23436860793786082, Val f1: 0.9097930788993835\n",
      "Val loss: 0.23393098299188175, Val f1: 0.9086642861366272\n",
      "\n",
      "Evaluating on test...\n",
      "Val loss: 0.46646253019571304, Val f1: 0.8992118835449219\n",
      "Val loss: 0.4341851770877838, Val f1: 0.8545440435409546\n",
      "Val loss: 0.4338010801718785, Val f1: 0.8345177173614502\n",
      "Val loss: 0.4275705465248653, Val f1: 0.8273735046386719\n",
      "Val loss: 0.42567385733127594, Val f1: 0.822137713432312\n",
      "\n",
      "starting Epoch 15\n",
      "Training...\n",
      "Train loss: 0.23735837463070364\n",
      "Train loss: 0.2383979984383652\n",
      "Train loss: 0.23993123437349612\n",
      "Train loss: 0.24180244702658207\n",
      "Train loss: 0.2424236375024949\n",
      "\n",
      "Evaluating on train...\n",
      "Val loss: 0.23266271764741225, Val f1: 0.9354917407035828\n",
      "Val loss: 0.22802990631780762, Val f1: 0.9211329221725464\n",
      "Val loss: 0.2258109560666176, Val f1: 0.917011022567749\n",
      "Val loss: 0.22554100985578496, Val f1: 0.9143136739730835\n",
      "Val loss: 0.22528412509923693, Val f1: 0.9131858944892883\n",
      "\n",
      "Evaluating on test...\n",
      "Val loss: 0.4780564270913601, Val f1: 0.8991100788116455\n",
      "Val loss: 0.4432437875691582, Val f1: 0.8535839915275574\n",
      "Val loss: 0.44255085518726933, Val f1: 0.8340019583702087\n",
      "Val loss: 0.4361400331769671, Val f1: 0.8272333741188049\n",
      "Val loss: 0.4343735480850393, Val f1: 0.8222233653068542\n",
      "\n",
      "starting Epoch 16\n",
      "Training...\n",
      "Train loss: 0.23199737992356806\n",
      "Train loss: 0.2299336715452913\n",
      "Train loss: 0.23060049804357383\n",
      "Train loss: 0.2314102339873211\n",
      "Train loss: 0.23238676084184098\n",
      "\n",
      "Evaluating on train...\n",
      "Val loss: 0.2221627555349294, Val f1: 0.9373149275779724\n",
      "Val loss: 0.2169231558623521, Val f1: 0.925969123840332\n",
      "Val loss: 0.21666181746583718, Val f1: 0.9216042160987854\n",
      "Val loss: 0.21551871685673007, Val f1: 0.9204133749008179\n",
      "Val loss: 0.21529211814718685, Val f1: 0.9191920161247253\n",
      "\n",
      "Evaluating on test...\n",
      "Val loss: 0.48376888036727905, Val f1: 0.909058690071106\n",
      "Val loss: 0.44953989281373863, Val f1: 0.8628289103507996\n",
      "Val loss: 0.4493594570801808, Val f1: 0.8419052362442017\n",
      "Val loss: 0.44267694098608834, Val f1: 0.8340521454811096\n",
      "Val loss: 0.4415008520538157, Val f1: 0.8289704918861389\n",
      "\n",
      "starting Epoch 17\n",
      "Training...\n",
      "Train loss: 0.22351247028392904\n",
      "Train loss: 0.22188654455585757\n",
      "Train loss: 0.22187431600804514\n",
      "Train loss: 0.2231967336625504\n",
      "Train loss: 0.22414354089347796\n",
      "\n",
      "Evaluating on train...\n",
      "Val loss: 0.20794473588466644, Val f1: 0.9475233554840088\n",
      "Val loss: 0.20632685029852219, Val f1: 0.9327471256256104\n",
      "Val loss: 0.20606877138981453, Val f1: 0.9283465147018433\n",
      "Val loss: 0.20579139663161133, Val f1: 0.9261614084243774\n",
      "Val loss: 0.20603488214399623, Val f1: 0.9244422316551208\n",
      "\n",
      "Evaluating on test...\n",
      "Val loss: 0.49430112168192863, Val f1: 0.9072860479354858\n",
      "Val loss: 0.4589945340857786, Val f1: 0.8608099818229675\n",
      "Val loss: 0.4590226927628884, Val f1: 0.8408374190330505\n",
      "Val loss: 0.45248842069080897, Val f1: 0.8330954313278198\n",
      "Val loss: 0.45087354291569104, Val f1: 0.8277548551559448\n",
      "\n",
      "starting Epoch 18\n",
      "Training...\n",
      "Train loss: 0.21353958152672825\n",
      "Train loss: 0.2105665759763856\n",
      "Train loss: 0.21222821379510257\n",
      "Train loss: 0.21373424169828567\n",
      "Train loss: 0.21491057828240012\n",
      "\n",
      "Evaluating on train...\n",
      "Val loss: 0.20101606100797653, Val f1: 0.9510999321937561\n",
      "Val loss: 0.19731806305007657, Val f1: 0.938090443611145\n",
      "Val loss: 0.19775335748608297, Val f1: 0.933128297328949\n",
      "Val loss: 0.19714790325370624, Val f1: 0.9305406808853149\n",
      "Val loss: 0.19705650184688897, Val f1: 0.9290842413902283\n",
      "\n",
      "Evaluating on test...\n",
      "Val loss: 0.5026735365390778, Val f1: 0.9078088998794556\n",
      "Val loss: 0.46719757949604707, Val f1: 0.8595736026763916\n",
      "Val loss: 0.4671636212330598, Val f1: 0.8400884866714478\n",
      "Val loss: 0.4607357178415571, Val f1: 0.8330460786819458\n",
      "Val loss: 0.4596820744601163, Val f1: 0.8278079628944397\n",
      "\n",
      "starting Epoch 19\n",
      "Training...\n",
      "Train loss: 0.20566653197302537\n",
      "Train loss: 0.20503443587517392\n",
      "Train loss: 0.20412568762325323\n",
      "Train loss: 0.2051670677799115\n",
      "Train loss: 0.2056820415731134\n",
      "\n",
      "Evaluating on train...\n",
      "Val loss: 0.19657905005356846, Val f1: 0.9529464840888977\n",
      "Val loss: 0.19049836133701215, Val f1: 0.9401733875274658\n",
      "Val loss: 0.19024516011659914, Val f1: 0.934851884841919\n",
      "Val loss: 0.18940035677213463, Val f1: 0.9325782656669617\n",
      "Val loss: 0.18866539155614787, Val f1: 0.9315926432609558\n",
      "\n",
      "Evaluating on test...\n",
      "Val loss: 0.5143871121108532, Val f1: 0.9037460088729858\n",
      "Val loss: 0.478696370826048, Val f1: 0.8569789528846741\n",
      "Val loss: 0.479389305298145, Val f1: 0.8358651995658875\n",
      "Val loss: 0.47198005659239634, Val f1: 0.8289085626602173\n",
      "Val loss: 0.4710277027704499, Val f1: 0.8232479095458984\n"
     ]
    }
   ],
   "source": [
    "losses, losses_eval, f1s, f1s_eval = train_and_evaluate(model, train_iterator, val_iterator, optimizer, criterion)"
   ]
  },
  {
   "cell_type": "code",
   "execution_count": 172,
   "metadata": {
    "id": "h_NL7rVuYN11"
   },
   "outputs": [],
   "source": [
    "import matplotlib.pyplot as plt"
   ]
  },
  {
   "cell_type": "code",
   "execution_count": 222,
   "metadata": {
    "colab": {
     "base_uri": "https://localhost:8080/",
     "height": 295
    },
    "id": "lh81VD6SeNRW",
    "outputId": "c950f56f-fc44-4482-8fbd-0f8b3371f3d8"
   },
   "outputs": [
    {
     "data": {
      "image/png": "[encoded data removed]",
      "text/plain": [
       "<Figure size 432x288 with 1 Axes>"
      ]
     },
     "metadata": {
      "needs_background": "light"
     },
     "output_type": "display_data"
    }
   ],
   "source": [
    "plt.plot(losses)\n",
    "plt.plot(losses_eval)\n",
    "plt.title('BCE loss value')\n",
    "plt.ylabel('BCE loss')\n",
    "plt.xlabel('epoch')\n",
    "plt.legend(['train', 'val'], loc='upper right')\n",
    "plt.show()"
   ]
  },
  {
   "cell_type": "code",
   "execution_count": 223,
   "metadata": {
    "colab": {
     "base_uri": "https://localhost:8080/",
     "height": 295
    },
    "id": "kgT3tBvQiuNm",
    "outputId": "8a1787aa-0edd-465f-c8a6-7d36b5d18db6"
   },
   "outputs": [
    {
     "data": {
      "image/png": "[encoded data removed]",
      "text/plain": [
       "<Figure size 432x288 with 1 Axes>"
      ]
     },
     "metadata": {
      "needs_background": "light"
     },
     "output_type": "display_data"
    }
   ],
   "source": [
    "plt.plot(f1s)\n",
    "plt.plot(f1s_eval)\n",
    "plt.title('f1 value')\n",
    "plt.ylabel('f1 value')\n",
    "plt.xlabel('epoch')\n",
    "plt.legend(['train', 'val'], loc='upper right')\n",
    "plt.show()"
   ]
  },
  {
   "cell_type": "code",
   "execution_count": 50,
   "metadata": {
    "id": "8QgneG4s6T2J"
   },
   "outputs": [],
   "source": [
    "import numpy as np"
   ]
  },
  {
   "cell_type": "code",
   "execution_count": 54,
   "metadata": {
    "id": "zWdQ1ePXG7Fn"
   },
   "outputs": [],
   "source": [
    "from gensim.models import FastText"
   ]
  },
  {
   "cell_type": "code",
   "execution_count": 66,
   "metadata": {
    "id": "roiMqEwpG8uW"
   },
   "outputs": [],
   "source": [
    "fasttext_embedder = FastText()"
   ]
  },
  {
   "cell_type": "code",
   "execution_count": 67,
   "metadata": {
    "id": "DFV31gdqINGp"
   },
   "outputs": [],
   "source": [
    "fasttext_embedder.build_vocab(list(df.ttext_tokenized))\n",
    "fasttext_embedder.train(list(df.ttext_tokenized), total_examples=len(df.ttext_tokenized), epochs=10)"
   ]
  },
  {
   "cell_type": "code",
   "execution_count": 69,
   "metadata": {
    "colab": {
     "base_uri": "https://localhost:8080/"
    },
    "id": "itrBsPitKBCU",
    "outputId": "cb84a0a1-09f6-4c19-994e-8b5b8937cc7c"
   },
   "outputs": [
    {
     "data": {
      "text/plain": [
       "(100,)"
      ]
     },
     "execution_count": 69,
     "metadata": {},
     "output_type": "execute_result"
    }
   ],
   "source": [
    "fasttext_embedder.wv[\"мама\"].shape"
   ]
  },
  {
   "cell_type": "code",
   "execution_count": 82,
   "metadata": {
    "colab": {
     "base_uri": "https://localhost:8080/"
    },
    "id": "egvQc4MbLRwA",
    "outputId": "6478704e-82f7-460f-9fda-dc036b3bacad"
   },
   "outputs": [
    {
     "data": {
      "text/plain": [
       "array([ 1.104259  ,  2.6314988 , -1.2894822 , -1.3851539 ,  0.18350072,\n",
       "        0.05627035, -1.7010925 ,  1.2807451 ,  1.0405988 , -0.681419  ,\n",
       "        0.43647575, -0.29110014,  0.773079  ,  0.25099728, -0.5357984 ,\n",
       "        2.3608332 ,  1.206548  ,  0.7134988 , -2.1065798 , -1.3348185 ,\n",
       "       -0.10672606,  0.07607281,  0.07393667,  1.8630462 ,  2.7078922 ,\n",
       "        0.08921336, -0.13595122, -1.4600787 ,  0.7293571 ,  1.1008493 ,\n",
       "       -2.1741583 ,  0.6219857 ,  1.882422  , -1.142107  ,  1.124455  ,\n",
       "       -2.3659337 , -1.7501439 , -0.9901385 , -0.579732  ,  0.2776633 ,\n",
       "        0.21764556, -0.7905479 ,  1.8216923 ,  1.3590729 ,  0.3231027 ,\n",
       "       -0.81875134,  0.6311111 ,  0.05106393,  0.27669457, -0.10012718,\n",
       "       -1.0740523 ,  0.12970787,  0.6361233 ,  1.2698029 ,  1.0528421 ,\n",
       "        2.5145237 , -2.6372223 , -0.40141475,  0.4966553 , -2.0296266 ,\n",
       "        0.22155653,  1.3401242 ,  0.5227219 ,  0.05153894, -0.5809259 ,\n",
       "       -2.970009  ,  0.5833199 ,  0.8618181 , -0.42640707, -0.14605606,\n",
       "       -0.7689041 , -0.93563956, -0.00528499, -0.2874336 ,  1.3857102 ,\n",
       "        1.6955059 , -1.0568968 , -0.7386505 ,  1.2601507 , -0.4680764 ,\n",
       "       -1.5602024 , -0.6450145 , -0.30324885, -0.59157044, -1.6277776 ,\n",
       "        0.60509074, -1.364854  , -1.3034943 , -0.96732813, -0.6412151 ,\n",
       "        0.48870885, -1.8805957 ,  1.3365364 ,  1.4360114 , -0.54324746,\n",
       "        1.138603  ,  0.3894892 , -0.08995584,  0.33005837,  0.69382834],\n",
       "      dtype=float32)"
      ]
     },
     "execution_count": 82,
     "metadata": {},
     "output_type": "execute_result"
    }
   ],
   "source": [
    "fasttext_embedder.wv[\"папа\"]"
   ]
  },
  {
   "cell_type": "code",
   "execution_count": 92,
   "metadata": {
    "id": "s92VSJfuKKoQ"
   },
   "outputs": [],
   "source": [
    "fasttext_embeddings = np.zeros((len(token2id), 100))\n",
    "for token in token2id.keys():\n",
    "    try:\n",
    "        fasttext_embeddings[token2id[token]] = fasttext_embedder.wv[token]\n",
    "    except:\n",
    "        pass"
   ]
  },
  {
   "cell_type": "code",
   "execution_count": 94,
   "metadata": {
    "colab": {
     "base_uri": "https://localhost:8080/"
    },
    "id": "o6sjM9VdLmak",
    "outputId": "28500cbd-7e06-4136-c2c6-f626baecfdb6"
   },
   "outputs": [
    {
     "data": {
      "text/plain": [
       "array([ True,  True,  True,  True,  True,  True,  True,  True,  True,\n",
       "        True,  True,  True,  True,  True,  True,  True,  True,  True,\n",
       "        True,  True,  True,  True,  True,  True,  True,  True,  True,\n",
       "        True,  True,  True,  True,  True,  True,  True,  True,  True,\n",
       "        True,  True,  True,  True,  True,  True,  True,  True,  True,\n",
       "        True,  True,  True,  True,  True,  True,  True,  True,  True,\n",
       "        True,  True,  True,  True,  True,  True,  True,  True,  True,\n",
       "        True,  True,  True,  True,  True,  True,  True,  True,  True,\n",
       "        True,  True,  True,  True,  True,  True,  True,  True,  True,\n",
       "        True,  True,  True,  True,  True,  True,  True,  True,  True,\n",
       "        True,  True,  True,  True,  True,  True,  True,  True,  True,\n",
       "        True])"
      ]
     },
     "execution_count": 94,
     "metadata": {},
     "output_type": "execute_result"
    }
   ],
   "source": [
    "fasttext_embeddings[token2id[\"мама\"]] == fasttext_embedder.wv[\"мама\"]"
   ]
  },
  {
   "cell_type": "code",
   "execution_count": 95,
   "metadata": {
    "colab": {
     "base_uri": "https://localhost:8080/"
    },
    "id": "8wMQ_iaF82K9",
    "outputId": "3ece4e58-ee12-4765-ba63-a39698c52e38"
   },
   "outputs": [
    {
     "data": {
      "text/plain": [
       "(17768, 100)"
      ]
     },
     "execution_count": 95,
     "metadata": {},
     "output_type": "execute_result"
    }
   ],
   "source": [
    "fasttext_embeddings.shape"
   ]
  },
  {
   "cell_type": "markdown",
   "metadata": {
    "id": "m0GjUegZgpcH"
   },
   "source": [
    "Как можно улучшить модель? Мы видим, что она явно переобучается, соответственно можно добавить классический способ борьбы с этим -- dropout. Также добавим ReLU для той же цели (погасить некоторые нейроны).\n"
   ]
  },
  {
   "cell_type": "code",
   "execution_count": 224,
   "metadata": {
    "id": "7aWa2FxV57ha"
   },
   "outputs": [],
   "source": [
    "class CNN_improved(nn.Module):\n",
    "    \n",
    "    def __init__(self, vocab_size, embedding_dim):\n",
    "        super().__init__()\n",
    "\n",
    "        self.embedding = nn.Embedding(vocab_size, embedding_dim)\n",
    "        self.bigrams = nn.Conv1d(in_channels=embedding_dim, out_channels=100, kernel_size=2, padding='same')\n",
    "        self.trigrams = nn.Conv1d(in_channels=embedding_dim, out_channels=80, kernel_size=3, padding='same')\n",
    "        self.bigrams2 = nn.Conv1d(in_channels=180, out_channels=100, kernel_size=2, padding='same')\n",
    "        self.pooling = nn.MaxPool1d(kernel_size=2, stride=2)\n",
    "        self.hidden = nn.Linear(in_features=100, out_features=1)\n",
    "        self.out = nn.Sigmoid()\n",
    "\n",
    "        self.dropout = nn.Dropout(p=0.5)\n",
    "        self.relu = nn.ReLU()\n",
    "    \n",
    "    def forward(self, word):\n",
    "        embedded = self.embedding(word)\n",
    "        embedded = embedded.transpose(1,2)\n",
    "        feature_map_bigrams = self.dropout(self.relu(self.bigrams(embedded)))\n",
    "        feature_map_trigrams = self.dropout(self.relu(self.trigrams(embedded)))\n",
    "        concat = torch.cat((feature_map_bigrams, feature_map_trigrams), 1)\n",
    "        concat_bigrams = self.dropout(self.relu(self.bigrams2(concat)))\n",
    "        pooling = self.pooling(concat_bigrams)\n",
    "        pooling = pooling.max(2)[0]\n",
    "\n",
    "        logits = self.hidden(pooling) \n",
    "        logits = self.out(logits)      \n",
    "        return logits"
   ]
  },
  {
   "cell_type": "markdown",
   "metadata": {
    "id": "6-DNDfr5k144"
   },
   "source": [
    "Увеличим и размерность эмбеддинга."
   ]
  },
  {
   "cell_type": "code",
   "execution_count": 226,
   "metadata": {
    "id": "4-9akSD-8OE1"
   },
   "outputs": [],
   "source": [
    "model = CNN_improved(len(token2id), 300)\n",
    "optimizer = optim.Adam(model.parameters(), lr=0.0005)\n",
    "criterion = nn.BCELoss()"
   ]
  },
  {
   "cell_type": "code",
   "execution_count": 227,
   "metadata": {
    "id": "MpZO2lPH8Vor"
   },
   "outputs": [],
   "source": [
    "model = model.to(DEVICE)\n",
    "criterion = criterion.to(DEVICE)"
   ]
  },
  {
   "cell_type": "code",
   "execution_count": 228,
   "metadata": {
    "colab": {
     "base_uri": "https://localhost:8080/"
    },
    "id": "rlJLR1sh8eeB",
    "outputId": "770cb4b9-70b3-40ad-8fbd-a3bc4375c4a2"
   },
   "outputs": [
    {
     "name": "stdout",
     "output_type": "stream",
     "text": [
      "\n",
      "starting Epoch 0\n",
      "Training...\n",
      "Train loss: 0.6113580956178553\n",
      "Train loss: 0.5462299498958864\n",
      "Train loss: 0.5153798546928626\n",
      "Train loss: 0.49710168598367155\n",
      "Train loss: 0.48353994098202935\n",
      "\n",
      "Evaluating on train...\n",
      "Val loss: 0.4370041112689411, Val f1: 0.8052672743797302\n",
      "Val loss: 0.43014194956724194, Val f1: 0.7955449223518372\n",
      "Val loss: 0.4267832777247979, Val f1: 0.7935517430305481\n",
      "Val loss: 0.4254841058374309, Val f1: 0.7907326221466064\n",
      "Val loss: 0.4243343369714145, Val f1: 0.7894246578216553\n",
      "\n",
      "Evaluating on test...\n",
      "Val loss: 0.48185599222779274, Val f1: 0.8679196834564209\n",
      "Val loss: 0.45152151584625244, Val f1: 0.820949912071228\n",
      "Val loss: 0.44444400874468, Val f1: 0.8032055497169495\n",
      "Val loss: 0.4388720342091152, Val f1: 0.797653079032898\n",
      "Val loss: 0.43583243069323624, Val f1: 0.7919972538948059\n",
      "\n",
      "starting Epoch 1\n",
      "Training...\n",
      "Train loss: 0.4299748364616843\n",
      "Train loss: 0.4207443370335344\n",
      "Train loss: 0.4177630847463241\n",
      "Train loss: 0.41414275551013807\n",
      "Train loss: 0.4120038115772708\n",
      "\n",
      "Evaluating on train...\n",
      "Val loss: 0.4046808200723985, Val f1: 0.8347043395042419\n",
      "Val loss: 0.39662228416705475, Val f1: 0.8244205713272095\n",
      "Val loss: 0.39534909622027326, Val f1: 0.8197895288467407\n",
      "Val loss: 0.39461882873404797, Val f1: 0.8180315494537354\n",
      "Val loss: 0.39383368827830784, Val f1: 0.8163210153579712\n",
      "\n",
      "Evaluating on test...\n",
      "Val loss: 0.45554595068097115, Val f1: 0.8877673149108887\n",
      "Val loss: 0.426212060100892, Val f1: 0.8384590148925781\n",
      "Val loss: 0.4207555170242603, Val f1: 0.8195522427558899\n",
      "Val loss: 0.4154117166996002, Val f1: 0.8150638937950134\n",
      "Val loss: 0.4123435155911879, Val f1: 0.8100171685218811\n",
      "\n",
      "starting Epoch 2\n",
      "Training...\n",
      "Train loss: 0.4003467323148952\n",
      "Train loss: 0.39456581551095715\n",
      "Train loss: 0.39129842760471195\n",
      "Train loss: 0.38914579796276505\n",
      "Train loss: 0.388131738565434\n",
      "\n",
      "Evaluating on train...\n",
      "Val loss: 0.38680026987019706, Val f1: 0.8548039197921753\n",
      "Val loss: 0.3799112814923991, Val f1: 0.8435533046722412\n",
      "Val loss: 0.3784634734575565, Val f1: 0.8399850130081177\n",
      "Val loss: 0.3769674509120502, Val f1: 0.8380792140960693\n",
      "Val loss: 0.3766373178397102, Val f1: 0.8367287516593933\n",
      "\n",
      "Evaluating on test...\n",
      "Val loss: 0.44273006170988083, Val f1: 0.9028887152671814\n",
      "Val loss: 0.4130288590403164, Val f1: 0.8560041785240173\n",
      "Val loss: 0.40784154488490176, Val f1: 0.8380044102668762\n",
      "Val loss: 0.40301703214645385, Val f1: 0.8312713503837585\n",
      "Val loss: 0.3997672952034257, Val f1: 0.8273650407791138\n",
      "\n",
      "starting Epoch 3\n",
      "Training...\n",
      "Train loss: 0.3792557768961963\n",
      "Train loss: 0.372909324756567\n",
      "Train loss: 0.3715477448243361\n",
      "Train loss: 0.37159292260519894\n",
      "Train loss: 0.3700849499510623\n",
      "\n",
      "Evaluating on train...\n",
      "Val loss: 0.3709653458174537, Val f1: 0.8602346181869507\n",
      "Val loss: 0.36542145497557044, Val f1: 0.8494567275047302\n",
      "Val loss: 0.3628078389626283, Val f1: 0.8457738757133484\n",
      "Val loss: 0.36012033314156017, Val f1: 0.8448600769042969\n",
      "Val loss: 0.3600894133935029, Val f1: 0.8440843820571899\n",
      "\n",
      "Evaluating on test...\n",
      "Val loss: 0.43183910846710205, Val f1: 0.9050739407539368\n",
      "Val loss: 0.40243248729144826, Val f1: 0.857594907283783\n",
      "Val loss: 0.3980513524550658, Val f1: 0.8390241265296936\n",
      "Val loss: 0.3931888563292367, Val f1: 0.8324275612831116\n",
      "Val loss: 0.3900484374978326, Val f1: 0.8282029032707214\n",
      "\n",
      "starting Epoch 4\n",
      "Training...\n",
      "Train loss: 0.364871290676734\n",
      "Train loss: 0.3589649001757304\n",
      "Train loss: 0.35787883314948815\n",
      "Train loss: 0.35779449408002895\n",
      "Train loss: 0.3566500988157316\n",
      "\n",
      "Evaluating on train...\n",
      "Val loss: 0.35880189520471234, Val f1: 0.8759567737579346\n",
      "Val loss: 0.3544392793074898, Val f1: 0.863219678401947\n",
      "Val loss: 0.3516703385573167, Val f1: 0.8595118522644043\n",
      "Val loss: 0.35055991878612436, Val f1: 0.8572178483009338\n",
      "Val loss: 0.3500847950063903, Val f1: 0.8562489748001099\n",
      "\n",
      "Evaluating on test...\n",
      "Val loss: 0.42618465796113014, Val f1: 0.9191956520080566\n",
      "Val loss: 0.39719171909724965, Val f1: 0.8701551556587219\n",
      "Val loss: 0.3925637190158551, Val f1: 0.8509880304336548\n",
      "Val loss: 0.3875792971679142, Val f1: 0.8435320854187012\n",
      "Val loss: 0.3843345967206088, Val f1: 0.8399798274040222\n",
      "\n",
      "starting Epoch 5\n",
      "Training...\n",
      "Train loss: 0.35130130806389975\n",
      "Train loss: 0.3471747679986816\n",
      "Train loss: 0.34525352745102\n",
      "Train loss: 0.34451272504792796\n",
      "Train loss: 0.3437263313038596\n",
      "\n",
      "Evaluating on train...\n",
      "Val loss: 0.3479490271385978, Val f1: 0.8815126419067383\n",
      "Val loss: 0.3414727328480154, Val f1: 0.8689791560173035\n",
      "Val loss: 0.33970444506177533, Val f1: 0.8642968535423279\n",
      "Val loss: 0.33970251272050594, Val f1: 0.8617632389068604\n",
      "Val loss: 0.33896472467773264, Val f1: 0.8605811595916748\n",
      "\n",
      "Evaluating on test...\n",
      "Val loss: 0.4195941761136055, Val f1: 0.9115433692932129\n",
      "Val loss: 0.39197252077214856, Val f1: 0.8641597628593445\n",
      "Val loss: 0.3881741509987758, Val f1: 0.8451864123344421\n",
      "Val loss: 0.3831448691231864, Val f1: 0.8384256958961487\n",
      "Val loss: 0.3799538178877397, Val f1: 0.8338904976844788\n",
      "\n",
      "starting Epoch 6\n",
      "Training...\n",
      "Train loss: 0.340517058968544\n",
      "Train loss: 0.33433469568473706\n",
      "Train loss: 0.332388955526627\n",
      "Train loss: 0.3328876160889221\n",
      "Train loss: 0.3325013391587926\n",
      "\n",
      "Evaluating on train...\n",
      "Val loss: 0.3344084375044879, Val f1: 0.8880922198295593\n",
      "Val loss: 0.33007636968640314, Val f1: 0.8747572302818298\n",
      "Val loss: 0.32886693769922626, Val f1: 0.8706114888191223\n",
      "Val loss: 0.3274557153098017, Val f1: 0.869417130947113\n",
      "Val loss: 0.32685336624753886, Val f1: 0.8683523535728455\n",
      "\n",
      "Evaluating on test...\n",
      "Val loss: 0.4150965176522732, Val f1: 0.9171560406684875\n",
      "Val loss: 0.3870479552184834, Val f1: 0.868251383304596\n",
      "Val loss: 0.38335547882776994, Val f1: 0.8493497371673584\n",
      "Val loss: 0.3784452131816319, Val f1: 0.8423874378204346\n",
      "Val loss: 0.37523370710286225, Val f1: 0.8378434181213379\n",
      "\n",
      "starting Epoch 7\n",
      "Training...\n",
      "Train loss: 0.32708041808184457\n",
      "Train loss: 0.32445863450782886\n",
      "Train loss: 0.3235057291503136\n",
      "Train loss: 0.324053701522539\n",
      "Train loss: 0.32361364981223795\n",
      "\n",
      "Evaluating on train...\n",
      "Val loss: 0.3289672381737653, Val f1: 0.8915706276893616\n",
      "Val loss: 0.323460667029671, Val f1: 0.8796201348304749\n",
      "Val loss: 0.3213420083316473, Val f1: 0.8763347864151001\n",
      "Val loss: 0.3204183198994012, Val f1: 0.8740599155426025\n",
      "Val loss: 0.32071050265054596, Val f1: 0.8722867369651794\n",
      "\n",
      "Evaluating on test...\n",
      "Val loss: 0.4137994274497032, Val f1: 0.9127105474472046\n",
      "Val loss: 0.3862070073099697, Val f1: 0.8648102879524231\n",
      "Val loss: 0.3826171194131558, Val f1: 0.8453676700592041\n",
      "Val loss: 0.37747245516095845, Val f1: 0.8391056656837463\n",
      "Val loss: 0.3741382915865291, Val f1: 0.8347034454345703\n",
      "\n",
      "starting Epoch 8\n",
      "Training...\n",
      "Train loss: 0.3190821339102352\n",
      "Train loss: 0.31574061124221137\n",
      "Train loss: 0.3153687735589651\n",
      "Train loss: 0.3153457967497462\n",
      "Train loss: 0.3143621763621254\n",
      "\n",
      "Evaluating on train...\n",
      "Val loss: 0.3182167086531134, Val f1: 0.8975094556808472\n",
      "Val loss: 0.31304903047672217, Val f1: 0.8854445219039917\n",
      "Val loss: 0.31112922355532646, Val f1: 0.8807299137115479\n",
      "Val loss: 0.3103398528459261, Val f1: 0.8785872459411621\n",
      "Val loss: 0.3087760328218855, Val f1: 0.8782203197479248\n",
      "\n",
      "Evaluating on test...\n",
      "Val loss: 0.41006607934832573, Val f1: 0.9192150235176086\n",
      "Val loss: 0.38311000781900745, Val f1: 0.869793176651001\n",
      "Val loss: 0.37980730602374446, Val f1: 0.8501380085945129\n",
      "Val loss: 0.3746431010110038, Val f1: 0.8432924747467041\n",
      "Val loss: 0.37120152806693857, Val f1: 0.8389779329299927\n",
      "\n",
      "starting Epoch 9\n",
      "Training...\n",
      "Train loss: 0.30894908922560077\n",
      "Train loss: 0.30776679515838623\n",
      "Train loss: 0.30517985127293146\n",
      "Train loss: 0.3051189865997369\n",
      "Train loss: 0.30614469431597613\n",
      "\n",
      "Evaluating on train...\n",
      "Val loss: 0.30874385903863344, Val f1: 0.9059363007545471\n",
      "Val loss: 0.3052412617033806, Val f1: 0.8914058804512024\n",
      "Val loss: 0.30300887358876377, Val f1: 0.8876819014549255\n",
      "Val loss: 0.30271190619297167, Val f1: 0.8854684829711914\n",
      "Val loss: 0.30238597831506836, Val f1: 0.8839759230613708\n",
      "\n",
      "Evaluating on test...\n",
      "Val loss: 0.40815259143710136, Val f1: 0.9200393557548523\n",
      "Val loss: 0.3815213213948643, Val f1: 0.8700917959213257\n",
      "Val loss: 0.37860701519709367, Val f1: 0.8509497046470642\n",
      "Val loss: 0.37380314639636447, Val f1: 0.8437374830245972\n",
      "Val loss: 0.3702292869036848, Val f1: 0.8389317393302917\n",
      "\n",
      "starting Epoch 10\n",
      "Training...\n",
      "Train loss: 0.3032701988430584\n",
      "Train loss: 0.29898222417071246\n",
      "Train loss: 0.29893689631269527\n",
      "Train loss: 0.29949742534177765\n",
      "Train loss: 0.3002848448767059\n",
      "\n",
      "Evaluating on train...\n",
      "Val loss: 0.3018698902691112, Val f1: 0.9079760909080505\n",
      "Val loss: 0.29651637828868366, Val f1: 0.895585834980011\n",
      "Val loss: 0.2939729518615283, Val f1: 0.8918512463569641\n",
      "Val loss: 0.2935174180449342, Val f1: 0.8891115784645081\n",
      "Val loss: 0.2935086605192601, Val f1: 0.8878695368766785\n",
      "\n",
      "Evaluating on test...\n",
      "Val loss: 0.4081975221633911, Val f1: 0.9194905161857605\n",
      "Val loss: 0.3816768211476943, Val f1: 0.8690164685249329\n",
      "Val loss: 0.37904323981358456, Val f1: 0.8495981097221375\n",
      "Val loss: 0.3740966430732182, Val f1: 0.8425320386886597\n",
      "Val loss: 0.3705784942616116, Val f1: 0.8371953964233398\n",
      "\n",
      "starting Epoch 11\n",
      "Training...\n",
      "Train loss: 0.2931029007715337\n",
      "Train loss: 0.2906861357066942\n",
      "Train loss: 0.2894053479226736\n",
      "Train loss: 0.2910269629612243\n",
      "Train loss: 0.29191829795124885\n",
      "\n",
      "Evaluating on train...\n",
      "Val loss: 0.29393837031196146, Val f1: 0.9158492088317871\n",
      "Val loss: 0.28954595413760864, Val f1: 0.9020499587059021\n",
      "Val loss: 0.2876768754078792, Val f1: 0.89739590883255\n",
      "Val loss: 0.28732973144208784, Val f1: 0.8956092596054077\n",
      "Val loss: 0.2871291704218963, Val f1: 0.8940855860710144\n",
      "\n",
      "Evaluating on test...\n",
      "Val loss: 0.4065673314034939, Val f1: 0.929696261882782\n",
      "Val loss: 0.379732154748019, Val f1: 0.8779546022415161\n",
      "Val loss: 0.37701786252168507, Val f1: 0.8585028052330017\n",
      "Val loss: 0.3724370607307979, Val f1: 0.8510291576385498\n",
      "Val loss: 0.3691248426383192, Val f1: 0.8456368446350098\n",
      "\n",
      "starting Epoch 12\n",
      "Training...\n",
      "Train loss: 0.28908993172294956\n",
      "Train loss: 0.2844726354747579\n",
      "Train loss: 0.28469264335357225\n",
      "Train loss: 0.2847586217329656\n",
      "Train loss: 0.2851764391037239\n",
      "\n",
      "Evaluating on train...\n",
      "Val loss: 0.2825186559382607, Val f1: 0.9174608588218689\n",
      "Val loss: 0.2782756707806518, Val f1: 0.9057527184486389\n",
      "Val loss: 0.2782747404506573, Val f1: 0.9003701210021973\n",
      "Val loss: 0.2766390550050804, Val f1: 0.8993895053863525\n",
      "Val loss: 0.2763069931460523, Val f1: 0.8982359766960144\n",
      "\n",
      "Evaluating on test...\n",
      "Val loss: 0.4073612429201603, Val f1: 0.9233505129814148\n",
      "Val loss: 0.38139919498387503, Val f1: 0.8730983138084412\n",
      "Val loss: 0.3787623311464603, Val f1: 0.8521392941474915\n",
      "Val loss: 0.3739634139197213, Val f1: 0.8453136682510376\n",
      "Val loss: 0.37016039273955603, Val f1: 0.8408777117729187\n",
      "\n",
      "starting Epoch 13\n",
      "Training...\n",
      "Train loss: 0.2778830992824891\n",
      "Train loss: 0.2765744371690612\n",
      "Train loss: 0.2779516050448784\n",
      "Train loss: 0.2779746023442248\n",
      "Train loss: 0.27961864279604504\n",
      "\n",
      "Evaluating on train...\n",
      "Val loss: 0.276084501953686, Val f1: 0.9265124201774597\n",
      "Val loss: 0.2732579207074815, Val f1: 0.9123905301094055\n",
      "Val loss: 0.2729498732548494, Val f1: 0.9075532555580139\n",
      "Val loss: 0.27259482346850333, Val f1: 0.9048712253570557\n",
      "Val loss: 0.27207983687691306, Val f1: 0.9037410616874695\n",
      "\n",
      "Evaluating on test...\n",
      "Val loss: 0.40993477776646614, Val f1: 0.9214086532592773\n",
      "Val loss: 0.3823426155483021, Val f1: 0.8735848665237427\n",
      "Val loss: 0.3788394916516084, Val f1: 0.8554502725601196\n",
      "Val loss: 0.37423557639122007, Val f1: 0.8478860855102539\n",
      "Val loss: 0.37055001949722116, Val f1: 0.8432894945144653\n",
      "\n",
      "starting Epoch 14\n",
      "Training...\n",
      "Train loss: 0.2749066620188601\n",
      "Train loss: 0.27125012809815613\n",
      "Train loss: 0.27073586216339696\n",
      "Train loss: 0.2718805160453851\n",
      "Train loss: 0.27298329051198633\n",
      "\n",
      "Evaluating on train...\n",
      "Val loss: 0.26760632237967324, Val f1: 0.9309675693511963\n",
      "Val loss: 0.2643041198236355, Val f1: 0.9167501330375671\n",
      "Val loss: 0.2634656032404074, Val f1: 0.9117468595504761\n",
      "Val loss: 0.26321218307498545, Val f1: 0.9088353514671326\n",
      "Val loss: 0.2629336020213434, Val f1: 0.9075564742088318\n",
      "\n",
      "Evaluating on test...\n",
      "Val loss: 0.4121490977704525, Val f1: 0.9176919460296631\n",
      "Val loss: 0.38429272525450764, Val f1: 0.8714454770088196\n",
      "Val loss: 0.3815361043581596, Val f1: 0.8511651158332825\n",
      "Val loss: 0.37666780863489424, Val f1: 0.8432667255401611\n",
      "Val loss: 0.3727955567565831, Val f1: 0.8393608927726746\n",
      "\n",
      "starting Epoch 15\n",
      "Training...\n",
      "Train loss: 0.2669520509593627\n",
      "Train loss: 0.2642412304446317\n",
      "Train loss: 0.2656984164451177\n",
      "Train loss: 0.26622184006859073\n",
      "Train loss: 0.2669084203140489\n",
      "\n",
      "Evaluating on train...\n",
      "Val loss: 0.2651563602335313, Val f1: 0.9341721534729004\n",
      "Val loss: 0.2607317914565404, Val f1: 0.9199150204658508\n",
      "Val loss: 0.2594305987541492, Val f1: 0.9157384037971497\n",
      "Val loss: 0.25886536148383466, Val f1: 0.9131668210029602\n",
      "Val loss: 0.2582745285726142, Val f1: 0.9119746088981628\n",
      "\n",
      "Evaluating on test...\n",
      "Val loss: 0.4142617918550968, Val f1: 0.9190381765365601\n",
      "Val loss: 0.3860711420283598, Val f1: 0.8716110587120056\n",
      "Val loss: 0.38351371540473056, Val f1: 0.8513959050178528\n",
      "Val loss: 0.37844146149499075, Val f1: 0.8445029258728027\n",
      "Val loss: 0.37487095526673575, Val f1: 0.8390933275222778\n",
      "\n",
      "starting Epoch 16\n",
      "Training...\n",
      "Train loss: 0.2608273651670007\n",
      "Train loss: 0.25850389746652136\n",
      "Train loss: 0.2588179068496594\n",
      "Train loss: 0.2601460938831027\n",
      "Train loss: 0.26189883798360825\n",
      "\n",
      "Evaluating on train...\n",
      "Val loss: 0.25878690796739917, Val f1: 0.9363141059875488\n",
      "Val loss: 0.25435121832550434, Val f1: 0.9213728904724121\n",
      "Val loss: 0.25314051070465493, Val f1: 0.9171109199523926\n",
      "Val loss: 0.25301445666834604, Val f1: 0.9145495891571045\n",
      "Val loss: 0.2522358076497056, Val f1: 0.9137852191925049\n",
      "\n",
      "Evaluating on test...\n",
      "Val loss: 0.4181279353797436, Val f1: 0.9191007614135742\n",
      "Val loss: 0.38920845529612375, Val f1: 0.869514524936676\n",
      "Val loss: 0.38647665541905624, Val f1: 0.8486890196800232\n",
      "Val loss: 0.3813967500414167, Val f1: 0.8416566252708435\n",
      "Val loss: 0.37750307673757727, Val f1: 0.83631831407547\n",
      "\n",
      "starting Epoch 17\n",
      "Training...\n",
      "Train loss: 0.2560989037156105\n",
      "Train loss: 0.2533441712890846\n",
      "Train loss: 0.2548274568353708\n",
      "Train loss: 0.2562836934979871\n",
      "Train loss: 0.2580348248968179\n",
      "\n",
      "Evaluating on train...\n",
      "Val loss: 0.24862733308006735, Val f1: 0.9438018798828125\n",
      "Val loss: 0.2488457102706467, Val f1: 0.9260525107383728\n",
      "Val loss: 0.24759272056130263, Val f1: 0.9218510985374451\n",
      "Val loss: 0.2476088739127564, Val f1: 0.9192617535591125\n",
      "Val loss: 0.24712017897901864, Val f1: 0.9183096885681152\n",
      "\n",
      "Evaluating on test...\n",
      "Val loss: 0.41969792172312737, Val f1: 0.9233856201171875\n",
      "Val loss: 0.3902173743528478, Val f1: 0.8731774687767029\n",
      "Val loss: 0.3873743907763408, Val f1: 0.8524253964424133\n",
      "Val loss: 0.38244025366646905, Val f1: 0.8448720574378967\n",
      "Val loss: 0.37842186472632666, Val f1: 0.8397921323776245\n",
      "\n",
      "starting Epoch 18\n",
      "Training...\n",
      "Train loss: 0.24955091581625097\n",
      "Train loss: 0.2485607350650041\n",
      "Train loss: 0.2496623363918983\n",
      "Train loss: 0.25025015190350924\n",
      "Train loss: 0.2515238469530796\n",
      "\n",
      "Evaluating on train...\n",
      "Val loss: 0.244511959307334, Val f1: 0.9422846436500549\n",
      "Val loss: 0.24096211575079654, Val f1: 0.9296578764915466\n",
      "Val loss: 0.23928834340320185, Val f1: 0.9258043766021729\n",
      "Val loss: 0.2385324966564453, Val f1: 0.9239206910133362\n",
      "Val loss: 0.23783299318332782, Val f1: 0.9230722188949585\n",
      "\n",
      "Evaluating on test...\n",
      "Val loss: 0.42249084264039993, Val f1: 0.9245310425758362\n",
      "Val loss: 0.3943151743973003, Val f1: 0.8733987808227539\n",
      "Val loss: 0.3912805078121332, Val f1: 0.8534601330757141\n",
      "Val loss: 0.3861463836261204, Val f1: 0.8454464673995972\n",
      "Val loss: 0.3821921673688022, Val f1: 0.8404620885848999\n",
      "\n",
      "starting Epoch 19\n",
      "Training...\n",
      "Train loss: 0.2438605480334338\n",
      "Train loss: 0.24320908128351404\n",
      "Train loss: 0.24540117440315393\n",
      "Train loss: 0.24653985517488108\n",
      "Train loss: 0.24677952481754895\n",
      "\n",
      "Evaluating on train...\n",
      "Val loss: 0.23423263299114563, Val f1: 0.9453139901161194\n",
      "Val loss: 0.23117480718571207, Val f1: 0.9319014549255371\n",
      "Val loss: 0.2294084090166367, Val f1: 0.9279483556747437\n",
      "Val loss: 0.2295868635820828, Val f1: 0.9254927635192871\n",
      "Val loss: 0.2291740795661663, Val f1: 0.9239835143089294\n",
      "\n",
      "Evaluating on test...\n",
      "Val loss: 0.429532028734684, Val f1: 0.9195831418037415\n",
      "Val loss: 0.4003613538601819, Val f1: 0.8705344796180725\n",
      "Val loss: 0.3968622283293651, Val f1: 0.8509649634361267\n",
      "Val loss: 0.3912363529205322, Val f1: 0.8440185785293579\n",
      "Val loss: 0.38724786923690274, Val f1: 0.8384807109832764\n"
     ]
    }
   ],
   "source": [
    "imp_losses, imp_losses_eval, imp_f1s, imp_f1s_eval = train_and_evaluate(model, train_iterator, val_iterator, optimizer, criterion)"
   ]
  },
  {
   "cell_type": "code",
   "execution_count": 229,
   "metadata": {
    "colab": {
     "base_uri": "https://localhost:8080/",
     "height": 295
    },
    "id": "uDFjcH8k_WkH",
    "outputId": "305dc5cf-f55c-4a75-87f1-f99aa71b5450"
   },
   "outputs": [
    {
     "data": {
      "image/png": "[encoded data removed]",
      "text/plain": [
       "<Figure size 432x288 with 1 Axes>"
      ]
     },
     "metadata": {
      "needs_background": "light"
     },
     "output_type": "display_data"
    }
   ],
   "source": [
    "plt.plot(imp_losses)\n",
    "plt.plot(imp_losses_eval)\n",
    "plt.title('BCE loss value')\n",
    "plt.ylabel('BCE loss')\n",
    "plt.xlabel('epoch')\n",
    "plt.legend(['train', 'val'], loc='upper right')\n",
    "plt.show()"
   ]
  },
  {
   "cell_type": "code",
   "execution_count": 230,
   "metadata": {
    "colab": {
     "base_uri": "https://localhost:8080/",
     "height": 295
    },
    "id": "IiLHzfL0Fpdg",
    "outputId": "ebbf5759-58df-4d82-ee93-adc426359122"
   },
   "outputs": [
    {
     "data": {
      "image/png": "[encoded data removed]",
      "text/plain": [
       "<Figure size 432x288 with 1 Axes>"
      ]
     },
     "metadata": {
      "needs_background": "light"
     },
     "output_type": "display_data"
    }
   ],
   "source": [
    "plt.plot(imp_f1s)\n",
    "plt.plot(imp_f1s_eval)\n",
    "plt.title('f1 value')\n",
    "plt.ylabel('f1 value')\n",
    "plt.xlabel('epoch')\n",
    "plt.legend(['train', 'val'], loc='upper right')\n",
    "plt.show()"
   ]
  },
  {
   "cell_type": "markdown",
   "metadata": {
    "id": "Xtp9DQ5_k70P"
   },
   "source": [
    "В итоге модель немного улучшилась. Мое подозрение в том, что размерность эмбеддинга не так сильно повлияла, как дропаут и релу."
   ]
  },
  {
   "cell_type": "code",
   "execution_count": 245,
   "metadata": {
    "id": "-s5bcOyzi30z"
   },
   "outputs": [],
   "source": [
    "def tfpn(model, iterator):\n",
    "    model.eval()\n",
    "    fp = []\n",
    "    fn = []\n",
    "    tp = [] \n",
    "    tn = []\n",
    "    with torch.no_grad():\n",
    "        for i, (texts, ys) in enumerate(iterator):   \n",
    "            preds = model(texts)\n",
    "            for pred, gold, text in zip(preds, ys, texts):\n",
    "              text = ' '.join([id2token[int(token)] for token in text if token !=0])\n",
    "              if round(pred.item()) > gold:\n",
    "                fp.append(text)\n",
    "              elif round(pred.item()) < gold:\n",
    "                fn.append(text)\n",
    "              elif round(pred.item()) == gold == 1:\n",
    "                tp.append(text)\n",
    "              elif round(pred.item()) == gold == 0:\n",
    "                tn.append(text)\n",
    "    return fp, fn, tp, tn"
   ]
  },
  {
   "cell_type": "code",
   "execution_count": 246,
   "metadata": {
    "id": "P-MdK3utjCrw"
   },
   "outputs": [],
   "source": [
    "fp, fn, tp, tn = tfpn(model, val_iterator)"
   ]
  },
  {
   "cell_type": "markdown",
   "metadata": {
    "id": "74eUhiVjmuFy"
   },
   "source": [
    "Сonfusion matrix:"
   ]
  },
  {
   "cell_type": "code",
   "execution_count": 265,
   "metadata": {
    "colab": {
     "base_uri": "https://localhost:8080/",
     "height": 283
    },
    "id": "Ig0WmLuvqC99",
    "outputId": "b7e5b11b-6628-47d3-95c7-82ca92e06756"
   },
   "outputs": [
    {
     "data": {
      "text/plain": [
       "<matplotlib.axes._subplots.AxesSubplot at 0x7f5b04823c90>"
      ]
     },
     "execution_count": 265,
     "metadata": {},
     "output_type": "execute_result"
    },
    {
     "data": {
      "image/png": "[encoded data removed]",
      "text/plain": [
       "<Figure size 432x288 with 2 Axes>"
      ]
     },
     "metadata": {
      "needs_background": "light"
     },
     "output_type": "display_data"
    }
   ],
   "source": [
    "from sklearn.metrics import confusion_matrix\n",
    "import seaborn as sns\n",
    "conf_matrix = confusion_matrix(tr, pr)\n",
    "labels = [\"TN\", \"FP\", \"False Neg\", \"True Pos\"]\n",
    "labels = np.asarray(labels).reshape(2,2)\n",
    "sns.heatmap(conf_matrix, annot=labels, fmt=\"\", cmap='Blues')"
   ]
  },
  {
   "cell_type": "markdown",
   "metadata": {
    "id": "6QtTW_YzIrdj"
   },
   "source": [
    "# 2"
   ]
  },
  {
   "cell_type": "code",
   "execution_count": 100,
   "metadata": {
    "colab": {
     "base_uri": "https://localhost:8080/"
    },
    "id": "Sr3sj_6jIt6o",
    "outputId": "0beb5f95-1428-4d62-d98d-3980cc6fbc0f"
   },
   "outputs": [
    {
     "name": "stdout",
     "output_type": "stream",
     "text": [
      "всего уникальных символов: 456\n"
     ]
    }
   ],
   "source": [
    "char_vocab = Counter()\n",
    "for text in df['ttext']:\n",
    "    char_vocab.update(list(text))\n",
    "print('всего уникальных символов:', len(char_vocab))"
   ]
  },
  {
   "cell_type": "code",
   "execution_count": 101,
   "metadata": {
    "id": "l7HHH92qIzEs"
   },
   "outputs": [],
   "source": [
    "filtered_char_vocab = set()\n",
    "\n",
    "for char in char_vocab:\n",
    "    if char_vocab[char] > 20:\n",
    "        filtered_char_vocab.add(char)"
   ]
  },
  {
   "cell_type": "code",
   "execution_count": 102,
   "metadata": {
    "id": "xrV0iz-LI4Dv"
   },
   "outputs": [],
   "source": [
    "symbol2id = {'PAD':0}\n",
    "\n",
    "for symbol in filtered_char_vocab:\n",
    "    symbol2id[symbol] = len(symbol2id)"
   ]
  },
  {
   "cell_type": "code",
   "execution_count": 103,
   "metadata": {
    "id": "fbPzOe0nJAPH"
   },
   "outputs": [],
   "source": [
    "id2symbol = {i:symbol for symbol, i in symbol2id.items()}"
   ]
  },
  {
   "cell_type": "code",
   "execution_count": 156,
   "metadata": {
    "id": "JEJ9-t6YIsde"
   },
   "outputs": [],
   "source": [
    "class TweetMixedDataset(Dataset):\n",
    "    \n",
    "    def __init__(self, dataset, token2id, symbol2id, DEVICE):\n",
    "        self.dataset = dataset['ttext_tokenized'].values, dataset['ttext'].values\n",
    "        self.token2id = token2id\n",
    "        self.symbol2id = symbol2id\n",
    "        self.length = dataset.shape[0]\n",
    "        self.target = dataset['ttype'].values\n",
    "        self.device = DEVICE\n",
    "\n",
    "    def __len__(self):\n",
    "        return self.length\n",
    "\n",
    "    def __getitem__(self, index): \n",
    "        tokens = self.dataset[0][index]\n",
    "        token_ids = torch.LongTensor([self.token2id[token] for token in tokens if token in self.token2id])\n",
    "        chars = list(self.dataset[1][index])\n",
    "        char_ids = torch.LongTensor([self.symbol2id[char] for char in chars if char in self.symbol2id])\n",
    "        y = [self.target[index]]\n",
    "        return token_ids, char_ids, y\n",
    "\n",
    "    def collate_fn(self, batch):\n",
    "        token_ids, char_ids, y = list(zip(*batch))\n",
    "        padded_token_ids = pad_sequence(token_ids, batch_first=True).to(self.device)\n",
    "        padded_symbol_ids = pad_sequence(char_ids, batch_first=True).to(self.device)\n",
    "        y = torch.Tensor(y).to(self.device)\n",
    "        return padded_token_ids, padded_symbol_ids, y"
   ]
  },
  {
   "cell_type": "code",
   "execution_count": 157,
   "metadata": {
    "id": "W5gGimQ7ItZB"
   },
   "outputs": [],
   "source": [
    "train_dataset = TweetMixedDataset(train_data, token2id, symbol2id, DEVICE)\n",
    "train_sampler = RandomSampler(train_dataset)\n",
    "train_iterator = DataLoader(train_dataset, collate_fn=train_dataset.collate_fn, sampler=train_sampler, batch_size=1024)"
   ]
  },
  {
   "cell_type": "code",
   "execution_count": 158,
   "metadata": {
    "id": "7e3xcuBqJEXH"
   },
   "outputs": [],
   "source": [
    "val_dataset = TweetMixedDataset(val_data, token2id, symbol2id, DEVICE)\n",
    "val_sampler = RandomSampler(val_dataset)\n",
    "val_iterator = DataLoader(val_dataset, collate_fn=val_dataset.collate_fn, sampler=val_sampler, batch_size=1024)"
   ]
  },
  {
   "cell_type": "code",
   "execution_count": 159,
   "metadata": {
    "id": "R7xZlMnEh1pv"
   },
   "outputs": [],
   "source": [
    "class MixedCNN(nn.Module):\n",
    "    \n",
    "    def __init__(self,\n",
    "                 token_vocab_size,\n",
    "                 symbol_vocab_size,\n",
    "                 char_embedding_dim):\n",
    "        super().__init__()\n",
    "        \n",
    "        self.token_embedding = nn.Embedding.from_pretrained(torch.Tensor(fasttext_embeddings))\n",
    "        self.token_hidden = nn.Linear(100, 100)\n",
    "        \n",
    "        self.char_embedding = nn.Embedding(symbol_vocab_size, char_embedding_dim)\n",
    "        self.char_bigrams = nn.Conv1d(in_channels=char_embedding_dim, out_channels=100, kernel_size=2, padding='same')\n",
    "        self.char_trigrams = nn.Conv1d(in_channels=char_embedding_dim, out_channels=80, kernel_size=3, padding='same')\n",
    "        \n",
    "        self.char_pooling = nn.MaxPool1d(kernel_size=2, stride=2)\n",
    "        self.relu = nn.ReLU()\n",
    "        \n",
    "        self.hidden_out = nn.Linear(280, 1)\n",
    "        self.out = nn.Sigmoid()\n",
    "    \n",
    "    def forward(self, tokens, chars):\n",
    "        tokens_embedded = self.token_embedding(tokens)\n",
    "        tokens_embedded = tokens_embedded.transpose(1,2).max(2)[0]\n",
    "        token_hidden = self.token_hidden(tokens_embedded)\n",
    "        \n",
    "        char_embedded = self.char_embedding(chars)\n",
    "        char_embedded = char_embedded.transpose(1,2)\n",
    "        feature_map_bigrams = self.char_pooling(self.relu(self.char_bigrams(char_embedded)))\n",
    "        feature_map_trigrams = self.char_pooling(self.relu(self.char_trigrams(char_embedded)))\n",
    "        pooling_bigrams = feature_map_bigrams.max(2)[0]\n",
    "        pooling_trigrams = feature_map_trigrams.max(2)[0]\n",
    "        concat = torch.cat((pooling_bigrams, pooling_trigrams), 1)\n",
    "        \n",
    "        concat_out = torch.cat((token_hidden, concat), 1)\n",
    "        logits = self.hidden_out(concat_out)\n",
    "        logits = self.out(logits)\n",
    "        return logits"
   ]
  },
  {
   "cell_type": "code",
   "execution_count": 160,
   "metadata": {
    "id": "YZ_LGTcRh4t5"
   },
   "outputs": [],
   "source": [
    "batch = next(iter(train_iterator))"
   ]
  },
  {
   "cell_type": "markdown",
   "metadata": {},
   "source": [
    "Пример того, как устроен батч:"
   ]
  },
  {
   "cell_type": "code",
   "execution_count": 161,
   "metadata": {
    "colab": {
     "base_uri": "https://localhost:8080/"
    },
    "id": "ubgEqtK2h7NQ",
    "outputId": "29910632-f9fc-4fc6-acc9-ecc770446912"
   },
   "outputs": [
    {
     "data": {
      "text/plain": [
       "tensor([[ 8371,  4727, 11020,  ...,     0,     0,     0],\n",
       "        [12006,   863,  7297,  ...,     0,     0,     0],\n",
       "        [12137, 12295, 13038,  ...,     0,     0,     0],\n",
       "        ...,\n",
       "        [ 2296, 13597,  8223,  ...,     0,     0,     0],\n",
       "        [ 5306, 17566,  3226,  ...,     0,     0,     0],\n",
       "        [12936, 10661,  7604,  ...,     0,     0,     0]], device='cuda:0')"
      ]
     },
     "execution_count": 161,
     "metadata": {},
     "output_type": "execute_result"
    }
   ],
   "source": [
    "batch[0]"
   ]
  },
  {
   "cell_type": "code",
   "execution_count": 162,
   "metadata": {
    "colab": {
     "base_uri": "https://localhost:8080/"
    },
    "id": "JpUNLTJD8BYJ",
    "outputId": "970e5b14-6b71-4acd-800c-ac9e0365bc0e"
   },
   "outputs": [
    {
     "data": {
      "text/plain": [
       "tensor([[174,  41,  22,  ..., 148,  69,  72],\n",
       "        [178, 107,  22,  ...,   0,   0,   0],\n",
       "        [164,  41, 112,  ...,   0,   0,   0],\n",
       "        ...,\n",
       "        [153, 139, 190,  ...,   0,   0,   0],\n",
       "        [174, 155, 130,  ...,   0,   0,   0],\n",
       "        [ 73,  69, 123,  ...,   0,   0,   0]], device='cuda:0')"
      ]
     },
     "execution_count": 162,
     "metadata": {},
     "output_type": "execute_result"
    }
   ],
   "source": [
    "batch[1]"
   ]
  },
  {
   "cell_type": "code",
   "execution_count": 163,
   "metadata": {
    "colab": {
     "base_uri": "https://localhost:8080/"
    },
    "id": "flSFQ7DV8C6f",
    "outputId": "51bb33f0-66cf-44ce-e79d-94a6abd1e8a2"
   },
   "outputs": [
    {
     "data": {
      "text/plain": [
       "tensor([[0.],\n",
       "        [1.],\n",
       "        [1.],\n",
       "        ...,\n",
       "        [0.],\n",
       "        [0.],\n",
       "        [1.]], device='cuda:0')"
      ]
     },
     "execution_count": 163,
     "metadata": {},
     "output_type": "execute_result"
    }
   ],
   "source": [
    "batch[2]"
   ]
  },
  {
   "cell_type": "code",
   "execution_count": 164,
   "metadata": {
    "colab": {
     "base_uri": "https://localhost:8080/"
    },
    "id": "Trl1aFxjh8qW",
    "outputId": "8e371410-8785-43bf-bb65-00ec2980be5f"
   },
   "outputs": [
    {
     "name": "stdout",
     "output_type": "stream",
     "text": [
      "tensor([[0.1353],\n",
      "        [0.1423],\n",
      "        [0.2797],\n",
      "        ...,\n",
      "        [0.3487],\n",
      "        [0.2265],\n",
      "        [0.3670]], device='cuda:0', grad_fn=<SigmoidBackward0>)\n"
     ]
    }
   ],
   "source": [
    "model = MixedCNN(len(id2token), len(id2symbol), 10)\n",
    "model = model.to(DEVICE)\n",
    "output = model(batch[0], batch[1])\n",
    "print(output)"
   ]
  },
  {
   "cell_type": "code",
   "execution_count": 165,
   "metadata": {
    "colab": {
     "base_uri": "https://localhost:8080/"
    },
    "id": "22oaOju9rrdg",
    "outputId": "64382c37-3aa6-4cdd-8bac-67990ffe4fcc"
   },
   "outputs": [
    {
     "data": {
      "text/plain": [
       "tensor(0.2203, device='cuda:0', grad_fn=<MeanBackward0>)"
      ]
     },
     "execution_count": 165,
     "metadata": {},
     "output_type": "execute_result"
    }
   ],
   "source": [
    "output.mean()"
   ]
  },
  {
   "cell_type": "code",
   "execution_count": 166,
   "metadata": {
    "id": "JqLhC2yciA4F"
   },
   "outputs": [],
   "source": [
    "optimizer = optim.Adam(model.parameters(), lr=0.0005)\n",
    "criterion = nn.BCELoss()"
   ]
  },
  {
   "cell_type": "code",
   "execution_count": 167,
   "metadata": {
    "id": "TrSd8Gj7ifBa"
   },
   "outputs": [],
   "source": [
    "def train(model, iterator, optimizer, criterion):\n",
    "    epoch_loss = 0\n",
    "\n",
    "    model.train()\n",
    "\n",
    "    for i, (texts, chars, ys) in enumerate(iterator):\n",
    "        optimizer.zero_grad()\n",
    "        preds = model(texts, chars)\n",
    "        loss = criterion(preds, ys)\n",
    "        loss.backward()\n",
    "        optimizer.step()\n",
    "        epoch_loss += loss.item()\n",
    "        if not (i + 1) % int(len(iterator)/5):\n",
    "            print(f'Train loss: {epoch_loss/(i+1)}')      \n",
    "    return  epoch_loss / len(iterator)"
   ]
  },
  {
   "cell_type": "code",
   "execution_count": 168,
   "metadata": {
    "id": "En_Bo7gTiiyS"
   },
   "outputs": [],
   "source": [
    "def evaluate(model, iterator, criterion):\n",
    "    epoch_loss = 0\n",
    "    epoch_metric = 0\n",
    "    model.eval() \n",
    "    with torch.no_grad():\n",
    "        for i, (texts, chars, ys) in enumerate(iterator):   \n",
    "            preds = model(texts, chars)\n",
    "            loss = criterion(preds, ys)\n",
    "            epoch_loss += loss.item()\n",
    "            batch_metric = f1(preds.round().long(), ys.long(), ignore_index=0)\n",
    "            epoch_metric += batch_metric\n",
    "\n",
    "            if not (i + 1) % int(len(iterator)/5):\n",
    "                print(f'Val loss: {epoch_loss/(i+1)}, Val f1: {epoch_metric/(i+1)}')\n",
    "        \n",
    "    return epoch_metric / len(iterator), epoch_loss / len(iterator) # возвращаем среднее значение по всей выборке"
   ]
  },
  {
   "cell_type": "code",
   "execution_count": 169,
   "metadata": {
    "id": "EDUqorVril_y"
   },
   "outputs": [],
   "source": [
    "def train_and_evaluate(model, t_iterator, v_iterator, optimizer, criterion, epochs=20):\n",
    "    losses = []\n",
    "    losses_eval = []\n",
    "    f1s = []\n",
    "    f1s_eval = []\n",
    "\n",
    "    for i in range(epochs):\n",
    "        print(f'\\nstarting Epoch {i}')\n",
    "        print('Training...')\n",
    "        epoch_loss = train(model, t_iterator, optimizer, criterion)\n",
    "        losses.append(epoch_loss)\n",
    "        print('\\nEvaluating on train...')\n",
    "        f1_on_train,_ = evaluate(model, t_iterator, criterion)\n",
    "        f1s.append(f1_on_train)\n",
    "        print('\\nEvaluating on test...')\n",
    "        f1_on_test, epoch_loss_on_test = evaluate(model, v_iterator, criterion)\n",
    "        losses_eval.append(epoch_loss_on_test)\n",
    "        f1s_eval.append(f1_on_test)\n",
    "    return losses, losses_eval, f1s, f1s_eval"
   ]
  },
  {
   "cell_type": "code",
   "execution_count": 170,
   "metadata": {
    "colab": {
     "base_uri": "https://localhost:8080/"
    },
    "id": "Lsm6juDEiOo4",
    "outputId": "69f8af69-c387-48d5-fdcb-24d87ce81df1"
   },
   "outputs": [
    {
     "name": "stdout",
     "output_type": "stream",
     "text": [
      "\n",
      "starting Epoch 0\n",
      "Training...\n",
      "Train loss: 0.7030261857169015\n",
      "Train loss: 0.6568131574562618\n",
      "Train loss: 0.6145732127484821\n",
      "Train loss: 0.5674910113215447\n",
      "Train loss: 0.5161453262397221\n",
      "\n",
      "Evaluating on train...\n",
      "Val loss: 0.24831425717898778, Val f1: 0.9582005143165588\n",
      "Val loss: 0.24765258367572512, Val f1: 0.958070695400238\n",
      "Val loss: 0.24818150315965926, Val f1: 0.9576213359832764\n",
      "Val loss: 0.24841785388333457, Val f1: 0.9576214551925659\n",
      "Val loss: 0.2484651460817882, Val f1: 0.9575864672660828\n",
      "\n",
      "Evaluating on test...\n",
      "Val loss: 0.25029758115609485, Val f1: 0.9545497894287109\n",
      "Val loss: 0.24828044656250212, Val f1: 0.9566069841384888\n",
      "Val loss: 0.246888878720778, Val f1: 0.9574328064918518\n",
      "Val loss: 0.24758992965022722, Val f1: 0.9573214650154114\n",
      "Val loss: 0.24758165246910518, Val f1: 0.9573948383331299\n",
      "\n",
      "starting Epoch 1\n",
      "Training...\n",
      "Train loss: 0.20714467678751264\n",
      "Train loss: 0.17649110140545027\n",
      "Train loss: 0.1553509676740283\n",
      "Train loss: 0.13952314667403698\n",
      "Train loss: 0.1270729524748666\n",
      "\n",
      "Evaluating on train...\n",
      "Val loss: 0.07008949816226959, Val f1: 0.977459728717804\n",
      "Val loss: 0.07016764208674431, Val f1: 0.977491021156311\n",
      "Val loss: 0.07026851170119786, Val f1: 0.9776154160499573\n",
      "Val loss: 0.07037439213267395, Val f1: 0.9776116609573364\n",
      "Val loss: 0.07031872881310326, Val f1: 0.977668285369873\n",
      "\n",
      "Evaluating on test...\n",
      "Val loss: 0.06723861272136371, Val f1: 0.9800810217857361\n",
      "Val loss: 0.06997522484097216, Val f1: 0.9786701202392578\n",
      "Val loss: 0.06849517756038243, Val f1: 0.9793484807014465\n",
      "Val loss: 0.06910877705862124, Val f1: 0.978963315486908\n",
      "Val loss: 0.06928585179977947, Val f1: 0.9785321950912476\n",
      "\n",
      "starting Epoch 2\n",
      "Training...\n",
      "Train loss: 0.0668945179453918\n",
      "Train loss: 0.06229270292179925\n",
      "Train loss: 0.05798110841285615\n",
      "Train loss: 0.054087530502251215\n",
      "Train loss: 0.05053674482873508\n",
      "\n",
      "Evaluating on train...\n",
      "Val loss: 0.03200313986412116, Val f1: 0.9890108704566956\n",
      "Val loss: 0.03262606550540243, Val f1: 0.9887979030609131\n",
      "Val loss: 0.032238881715706415, Val f1: 0.9891384243965149\n",
      "Val loss: 0.03227606793599469, Val f1: 0.9891711473464966\n",
      "Val loss: 0.03219948458884444, Val f1: 0.989124059677124\n",
      "\n",
      "Evaluating on test...\n",
      "Val loss: 0.03260172241263919, Val f1: 0.9894580841064453\n",
      "Val loss: 0.0328032902131478, Val f1: 0.9893134236335754\n",
      "Val loss: 0.033047839516290915, Val f1: 0.9887660145759583\n",
      "Val loss: 0.03194750193506479, Val f1: 0.9896248579025269\n",
      "Val loss: 0.03140810078216923, Val f1: 0.9898812174797058\n",
      "\n",
      "starting Epoch 3\n",
      "Training...\n",
      "Train loss: 0.028983560310942787\n",
      "Train loss: 0.027304430279348577\n",
      "Train loss: 0.025267419006143297\n",
      "Train loss: 0.023159128074933377\n",
      "Train loss: 0.02141336327684777\n",
      "\n",
      "Evaluating on train...\n",
      "Val loss: 0.013618594567690576, Val f1: 0.9978711009025574\n",
      "Val loss: 0.01339738088260804, Val f1: 0.9977971911430359\n",
      "Val loss: 0.013166358472690695, Val f1: 0.9980331063270569\n",
      "Val loss: 0.01317606348145221, Val f1: 0.9980459809303284\n",
      "Val loss: 0.013174609227904251, Val f1: 0.9980676174163818\n",
      "\n",
      "Evaluating on test...\n",
      "Val loss: 0.012610576632950041, Val f1: 0.9981570839881897\n",
      "Val loss: 0.01239231482355131, Val f1: 0.9981119632720947\n",
      "Val loss: 0.012420129582837777, Val f1: 0.9982372522354126\n",
      "Val loss: 0.012812449648562405, Val f1: 0.9980305433273315\n",
      "Val loss: 0.012875431527694067, Val f1: 0.997992992401123\n",
      "\n",
      "starting Epoch 4\n",
      "Training...\n",
      "Train loss: 0.011952232862157481\n",
      "Train loss: 0.011594917099656803\n",
      "Train loss: 0.010772495002796253\n",
      "Train loss: 0.009966135550556438\n",
      "Train loss: 0.009394929605935302\n",
      "\n",
      "Evaluating on train...\n",
      "Val loss: 0.006764461645590408, Val f1: 0.9990577697753906\n",
      "Val loss: 0.006725004518271557, Val f1: 0.9991636276245117\n",
      "Val loss: 0.006548044850517597, Val f1: 0.9991562366485596\n",
      "Val loss: 0.006529705587308854, Val f1: 0.999131977558136\n",
      "Val loss: 0.006499379055042352, Val f1: 0.9991630911827087\n",
      "\n",
      "Evaluating on test...\n",
      "Val loss: 0.006064083892852068, Val f1: 0.999254047870636\n",
      "Val loss: 0.006200849000985424, Val f1: 0.9993038177490234\n",
      "Val loss: 0.006292096235685878, Val f1: 0.9990660548210144\n",
      "Val loss: 0.006511676396864156, Val f1: 0.998978853225708\n",
      "Val loss: 0.006464950926601887, Val f1: 0.9990963935852051\n",
      "\n",
      "starting Epoch 5\n",
      "Training...\n",
      "Train loss: 0.006419014904115881\n",
      "Train loss: 0.005956560413220099\n",
      "Train loss: 0.00570609113201499\n",
      "Train loss: 0.005379018528453474\n",
      "Train loss: 0.00513966658418732\n",
      "\n",
      "Evaluating on train...\n",
      "Val loss: 0.004228883828701718, Val f1: 0.99930739402771\n",
      "Val loss: 0.004079626410800431, Val f1: 0.999419629573822\n",
      "Val loss: 0.0039753365153003305, Val f1: 0.9994741082191467\n",
      "Val loss: 0.003979361877177975, Val f1: 0.9994460940361023\n",
      "Val loss: 0.0040214408189058306, Val f1: 0.9994420409202576\n",
      "\n",
      "Evaluating on test...\n",
      "Val loss: 0.003526847887163361, Val f1: 0.9996801018714905\n",
      "Val loss: 0.004070038609724078, Val f1: 0.9993515014648438\n",
      "Val loss: 0.004071509603548933, Val f1: 0.9992808699607849\n",
      "Val loss: 0.00403415293355162, Val f1: 0.9993012547492981\n",
      "Val loss: 0.0041781804317401515, Val f1: 0.999305009841919\n",
      "\n",
      "starting Epoch 6\n",
      "Training...\n",
      "Train loss: 0.0039692884577172145\n",
      "Train loss: 0.0038624270553035394\n",
      "Train loss: 0.003636288997672853\n",
      "Train loss: 0.0035270708513313108\n",
      "Train loss: 0.003396837539704783\n",
      "\n",
      "Evaluating on train...\n",
      "Val loss: 0.0031006756903869765, Val f1: 0.999481201171875\n",
      "Val loss: 0.0029451272350602916, Val f1: 0.9994888305664062\n",
      "Val loss: 0.002857369552588179, Val f1: 0.9995679259300232\n",
      "Val loss: 0.0028246173269248433, Val f1: 0.9995790719985962\n",
      "Val loss: 0.0028178113426214884, Val f1: 0.9995854496955872\n",
      "\n",
      "Evaluating on test...\n",
      "Val loss: 0.0028333585036711562, Val f1: 0.999573290348053\n",
      "Val loss: 0.0028383301493401327, Val f1: 0.9995742440223694\n",
      "Val loss: 0.0029339110953043456, Val f1: 0.9995441436767578\n",
      "Val loss: 0.0029228008028844166, Val f1: 0.9994944334030151\n",
      "Val loss: 0.0029033079381204315, Val f1: 0.9994875192642212\n",
      "\n",
      "starting Epoch 7\n",
      "Training...\n",
      "Train loss: 0.0026999721270320673\n",
      "Train loss: 0.002830904650701476\n",
      "Train loss: 0.0026901049605969874\n",
      "Train loss: 0.0025443986964611602\n",
      "Train loss: 0.002490930698612439\n",
      "\n",
      "Evaluating on train...\n",
      "Val loss: 0.0020989558992109128, Val f1: 0.9997776746749878\n",
      "Val loss: 0.0019875333902226494, Val f1: 0.9997653365135193\n",
      "Val loss: 0.00212764121603132, Val f1: 0.9996970295906067\n",
      "Val loss: 0.0021673064757903506, Val f1: 0.9996553659439087\n",
      "Val loss: 0.0021292760519177785, Val f1: 0.999674916267395\n",
      "\n",
      "Evaluating on test...\n",
      "Val loss: 0.002456663797299067, Val f1: 0.9993621110916138\n",
      "Val loss: 0.0022370307512270906, Val f1: 0.9995741248130798\n",
      "Val loss: 0.0021349598213823307, Val f1: 0.99960857629776\n",
      "Val loss: 0.002285372937977728, Val f1: 0.9995746612548828\n",
      "Val loss: 0.0022738277653439175, Val f1: 0.9995520710945129\n",
      "\n",
      "starting Epoch 8\n",
      "Training...\n",
      "Train loss: 0.001938657825147467\n",
      "Train loss: 0.0020360673062636385\n",
      "Train loss: 0.0019369484612806922\n",
      "Train loss: 0.001948182431182691\n",
      "Train loss: 0.0019263076363131403\n",
      "\n",
      "Evaluating on train...\n",
      "Val loss: 0.0016736674488389066, Val f1: 0.9997813701629639\n",
      "Val loss: 0.0017696206491174442, Val f1: 0.9996727108955383\n",
      "Val loss: 0.00168013184364619, Val f1: 0.9997353553771973\n",
      "Val loss: 0.00167309665162715, Val f1: 0.9997244477272034\n",
      "Val loss: 0.0016792812793781716, Val f1: 0.999723494052887\n",
      "\n",
      "Evaluating on test...\n",
      "Val loss: 0.0022958558596049747, Val f1: 0.9992687702178955\n",
      "Val loss: 0.002025731541733775, Val f1: 0.9994233250617981\n",
      "Val loss: 0.0018534354943161209, Val f1: 0.999508261680603\n",
      "Val loss: 0.001903054892965075, Val f1: 0.9995471239089966\n",
      "Val loss: 0.001854544809450292, Val f1: 0.9995920062065125\n",
      "\n",
      "starting Epoch 9\n",
      "Training...\n",
      "Train loss: 0.0016523677323545729\n",
      "Train loss: 0.001533855709047722\n",
      "Train loss: 0.0015767753994580182\n",
      "Train loss: 0.0015253084782411211\n",
      "Train loss: 0.0015262974748787071\n",
      "\n",
      "Evaluating on train...\n",
      "Val loss: 0.0013529186386481993, Val f1: 0.9997528195381165\n",
      "Val loss: 0.0013249624237817313, Val f1: 0.999821126461029\n",
      "Val loss: 0.0013671377440914513, Val f1: 0.9997804760932922\n",
      "Val loss: 0.0013767857283320543, Val f1: 0.9997795224189758\n",
      "Val loss: 0.0013666224147060087, Val f1: 0.9997904896736145\n",
      "\n",
      "Evaluating on test...\n",
      "Val loss: 0.0015449548890400264, Val f1: 0.9997814893722534\n",
      "Val loss: 0.0017543286893568519, Val f1: 0.9996337890625\n",
      "Val loss: 0.0016916374594007652, Val f1: 0.9995794892311096\n",
      "Val loss: 0.0016243860866072485, Val f1: 0.9996280670166016\n",
      "Val loss: 0.0015669561275798414, Val f1: 0.9996598362922668\n"
     ]
    }
   ],
   "source": [
    "mix_losses, mix_losses_eval, mix_f1s, mix_f1s_eval = train_and_evaluate(model, train_iterator, val_iterator, optimizer, criterion, 10)"
   ]
  },
  {
   "cell_type": "code",
   "execution_count": 173,
   "metadata": {
    "colab": {
     "base_uri": "https://localhost:8080/",
     "height": 295
    },
    "id": "SBiUVn7IxT6-",
    "outputId": "9bb82160-fc2a-420b-ff96-832b016b1e14"
   },
   "outputs": [
    {
     "data": {
      "image/png": "[encoded data removed]",
      "text/plain": [
       "<Figure size 432x288 with 1 Axes>"
      ]
     },
     "metadata": {
      "needs_background": "light"
     },
     "output_type": "display_data"
    }
   ],
   "source": [
    "plt.plot(mix_losses)\n",
    "plt.plot(mix_losses_eval)\n",
    "plt.title('BCE loss value')\n",
    "plt.ylabel('BCE loss')\n",
    "plt.xlabel('epoch')\n",
    "plt.legend(['train', 'val'], loc='upper right')\n",
    "plt.show()"
   ]
  },
  {
   "cell_type": "code",
   "execution_count": 174,
   "metadata": {
    "colab": {
     "base_uri": "https://localhost:8080/",
     "height": 295
    },
    "id": "rRNgOfq8iUWN",
    "outputId": "86909cd9-9b4f-41ac-ebbf-579a81044f86",
    "scrolled": true
   },
   "outputs": [
    {
     "data": {
      "image/png": "[encoded data removed]",
      "text/plain": [
       "<Figure size 432x288 with 1 Axes>"
      ]
     },
     "metadata": {
      "needs_background": "light"
     },
     "output_type": "display_data"
    }
   ],
   "source": [
    "plt.plot(mix_f1s)\n",
    "plt.plot(mix_f1s_eval)\n",
    "plt.title('F1 score')\n",
    "plt.ylabel('F1')\n",
    "plt.xlabel('epoch')\n",
    "plt.legend(['train', 'val'], loc='upper right')\n",
    "plt.show()"
   ]
  },
  {
   "cell_type": "markdown",
   "metadata": {},
   "source": [
    "Ухудшим модель, поскольку слишком уж хорошая она получается и оптимизировать ее бессмысленно."
   ]
  },
  {
   "cell_type": "code",
   "execution_count": 175,
   "metadata": {
    "id": "qdbxD5GFJTyt"
   },
   "outputs": [],
   "source": [
    "import re"
   ]
  },
  {
   "cell_type": "code",
   "execution_count": 176,
   "metadata": {
    "id": "GVudPzJTJIyH"
   },
   "outputs": [],
   "source": [
    "def no_punct(text):\n",
    "    return re.sub(\"[^a-z а-яё\\-]+\", \"\", text)"
   ]
  },
  {
   "cell_type": "code",
   "execution_count": 177,
   "metadata": {
    "id": "zFCF0dEvJHt3"
   },
   "outputs": [],
   "source": [
    "df[\"ttext_nopunct\"] = df[\"ttext\"].apply(no_punct)"
   ]
  },
  {
   "cell_type": "code",
   "execution_count": 178,
   "metadata": {
    "id": "hLYbZzIBJuZB"
   },
   "outputs": [],
   "source": [
    "df[\"ttext_nopunct_tokenized\"] = df[\"ttext_nopunct\"].apply(clean_tokenize)"
   ]
  },
  {
   "cell_type": "code",
   "execution_count": 92,
   "metadata": {
    "colab": {
     "base_uri": "https://localhost:8080/"
    },
    "id": "qzVgkI-lJwdl",
    "outputId": "c465ff70-a8be-45e4-e7cc-01590e160c55"
   },
   "outputs": [
    {
     "data": {
      "text/plain": [
       "0         [firsttimee, хоть, я, и, школота, но, поверь, ...\n",
       "1         [а, все-таки, он, немного, похож, на, него, о,...\n",
       "2         [atiaheh, у, ты, идиотка, я, испугалась, за, т...\n",
       "3         [digger, то, то, в, углу, сидит, и, погибает, ...\n",
       "4         [irinadyshkant, от, что, значит, страшилка, о,...\n",
       "                                ...                        \n",
       "226829    [о, не, каждый, хочет, что, то, исправлять, ht...\n",
       "226830    [скучаю, так, только, taaannyaaa, вправляет, м...\n",
       "226831    [от, и, в, школу, в, говно, это, идти, уже, надо]\n",
       "226832          [hem, isaeroud, ауриэль, не, грусти, обнял]\n",
       "226833    [акси, везет, меня, на, работу, аздумываю, при...\n",
       "Name: ttext_nopunct_tokenized, Length: 226834, dtype: object"
      ]
     },
     "execution_count": 92,
     "metadata": {},
     "output_type": "execute_result"
    }
   ],
   "source": [
    "df[\"ttext_nopunct_tokenized\"]"
   ]
  },
  {
   "cell_type": "code",
   "execution_count": 94,
   "metadata": {
    "id": "qxObLiTNKgzc"
   },
   "outputs": [],
   "source": [
    "df = df.drop([\"ttext_nopucnt_tokenized\", \"ttext_nopucnt\"], axis=1)"
   ]
  },
  {
   "cell_type": "code",
   "execution_count": 179,
   "metadata": {
    "id": "Ao0IGiqeJ6Bg"
   },
   "outputs": [],
   "source": [
    "class TweetNoPunctMixedDataset(Dataset):\n",
    "    \n",
    "    def __init__(self, dataset, token2id, symbol2id, DEVICE):\n",
    "        self.dataset = dataset['ttext_nopunct_tokenized'].values, dataset['ttext_nopunct'].values\n",
    "        self.token2id = token2id\n",
    "        self.symbol2id = symbol2id\n",
    "        self.length = dataset.shape[0]\n",
    "        self.target = dataset['ttype'].values\n",
    "        self.device = DEVICE\n",
    "\n",
    "    def __len__(self):\n",
    "        return self.length\n",
    "\n",
    "    def __getitem__(self, index): \n",
    "        tokens = self.dataset[0][index]\n",
    "        token_ids = torch.LongTensor([self.token2id[token] for token in tokens if token in self.token2id])\n",
    "        chars = list(self.dataset[1][index])\n",
    "        char_ids = torch.LongTensor([self.symbol2id[char] for char in chars if char in self.symbol2id])\n",
    "        y = [self.target[index]]\n",
    "        return token_ids, char_ids, y\n",
    "\n",
    "    def collate_fn(self, batch):\n",
    "        token_ids, char_ids, y = list(zip(*batch))\n",
    "        padded_token_ids = pad_sequence(token_ids, batch_first=True).to(self.device)\n",
    "        padded_symbol_ids = pad_sequence(char_ids, batch_first=True).to(self.device)\n",
    "        y = torch.Tensor(y).to(self.device)\n",
    "        return padded_token_ids, padded_symbol_ids, y"
   ]
  },
  {
   "cell_type": "code",
   "execution_count": 180,
   "metadata": {
    "id": "rMZ68jsyK8FO"
   },
   "outputs": [],
   "source": [
    "train_data, val_data = train_test_split(df, test_size=0.2)"
   ]
  },
  {
   "cell_type": "code",
   "execution_count": 181,
   "metadata": {
    "id": "h8e47ChfKNos"
   },
   "outputs": [],
   "source": [
    "train_dataset = TweetNoPunctMixedDataset(train_data, token2id, symbol2id, DEVICE)\n",
    "train_sampler = RandomSampler(train_dataset)\n",
    "train_iterator = DataLoader(train_dataset, collate_fn=train_dataset.collate_fn, sampler=train_sampler, batch_size=1024)"
   ]
  },
  {
   "cell_type": "code",
   "execution_count": 182,
   "metadata": {
    "id": "YrGiv4rnKNos"
   },
   "outputs": [],
   "source": [
    "val_dataset = TweetNoPunctMixedDataset(val_data, token2id, symbol2id, DEVICE)\n",
    "val_sampler = RandomSampler(val_dataset)\n",
    "val_iterator = DataLoader(val_dataset, collate_fn=val_dataset.collate_fn, sampler=val_sampler, batch_size=1024)"
   ]
  },
  {
   "cell_type": "code",
   "execution_count": 183,
   "metadata": {
    "id": "aMAOvrtbKI9f"
   },
   "outputs": [],
   "source": [
    "model = MixedCNN(len(id2token), len(id2symbol), 10)\n",
    "model = model.to(DEVICE)\n",
    "optimizer = optim.Adam(model.parameters(), lr=0.0005)\n",
    "criterion = nn.BCELoss()"
   ]
  },
  {
   "cell_type": "code",
   "execution_count": 184,
   "metadata": {
    "colab": {
     "base_uri": "https://localhost:8080/"
    },
    "id": "BzbTxKSkLHXQ",
    "outputId": "0a0e07a8-752c-44b0-8328-5db18b7b9d30"
   },
   "outputs": [
    {
     "name": "stdout",
     "output_type": "stream",
     "text": [
      "\n",
      "starting Epoch 0\n",
      "Training...\n",
      "Train loss: 0.6983140911374773\n",
      "Train loss: 0.6842086664267949\n",
      "Train loss: 0.6756873312450591\n",
      "Train loss: 0.66956019955022\n",
      "Train loss: 0.6651484080723353\n",
      "\n",
      "Evaluating on train...\n",
      "Val loss: 0.6432480454444885, Val f1: 0.6269960403442383\n",
      "Val loss: 0.6437503286770412, Val f1: 0.6273746490478516\n",
      "Val loss: 0.6436986804008484, Val f1: 0.6274717450141907\n",
      "Val loss: 0.6436664700508118, Val f1: 0.6269793510437012\n",
      "Val loss: 0.6435890371458871, Val f1: 0.6265784502029419\n",
      "\n",
      "Evaluating on test...\n",
      "Val loss: 0.6493217481507195, Val f1: 0.6128045916557312\n",
      "Val loss: 0.646066771613227, Val f1: 0.6174113154411316\n",
      "Val loss: 0.6451739823376691, Val f1: 0.6196780800819397\n",
      "Val loss: 0.6432402713431252, Val f1: 0.6223928928375244\n",
      "Val loss: 0.6426614244778951, Val f1: 0.6241124272346497\n",
      "\n",
      "starting Epoch 1\n",
      "Training...\n",
      "Train loss: 0.6450943010193961\n",
      "Train loss: 0.6423449311937605\n",
      "Train loss: 0.6406671086947123\n",
      "Train loss: 0.6389603521142687\n",
      "Train loss: 0.6377077542032514\n",
      "\n",
      "Evaluating on train...\n",
      "Val loss: 0.6313270143100194, Val f1: 0.6628370881080627\n",
      "Val loss: 0.6308630798544203, Val f1: 0.6606557369232178\n",
      "Val loss: 0.6308775441987174, Val f1: 0.6603168845176697\n",
      "Val loss: 0.6305222277130399, Val f1: 0.6608938574790955\n",
      "Val loss: 0.6303866277422224, Val f1: 0.6610423922538757\n",
      "\n",
      "Evaluating on test...\n",
      "Val loss: 0.6297183765305413, Val f1: 0.6582209467887878\n",
      "Val loss: 0.6314672595924802, Val f1: 0.6578498482704163\n",
      "Val loss: 0.6308452619446648, Val f1: 0.6594732999801636\n",
      "Val loss: 0.6319782369666629, Val f1: 0.6582282781600952\n",
      "Val loss: 0.6306307858890957, Val f1: 0.6601375937461853\n",
      "\n",
      "starting Epoch 2\n",
      "Training...\n",
      "Train loss: 0.632172281401498\n",
      "Train loss: 0.6317136304719108\n",
      "Train loss: 0.6297005488758995\n",
      "Train loss: 0.6280860551765987\n",
      "Train loss: 0.6276918275015695\n",
      "\n",
      "Evaluating on train...\n",
      "Val loss: 0.6217158096177238, Val f1: 0.6675251126289368\n",
      "Val loss: 0.6221055311816079, Val f1: 0.6683993935585022\n",
      "Val loss: 0.621052268573216, Val f1: 0.6694305539131165\n",
      "Val loss: 0.6212489817823682, Val f1: 0.6685872673988342\n",
      "Val loss: 0.6212295518602644, Val f1: 0.6681435704231262\n",
      "\n",
      "Evaluating on test...\n",
      "Val loss: 0.6221749981244405, Val f1: 0.6634799838066101\n",
      "Val loss: 0.6238834096325768, Val f1: 0.6621941924095154\n",
      "Val loss: 0.6230668602166353, Val f1: 0.6641867160797119\n",
      "Val loss: 0.6221264534526401, Val f1: 0.6648805737495422\n",
      "Val loss: 0.6226351049211291, Val f1: 0.6624906659126282\n",
      "\n",
      "starting Epoch 3\n",
      "Training...\n",
      "Train loss: 0.6245149459157672\n",
      "Train loss: 0.6232893552098956\n",
      "Train loss: 0.6227853241420928\n",
      "Train loss: 0.6208096870354244\n",
      "Train loss: 0.6202506061962673\n",
      "\n",
      "Evaluating on train...\n",
      "Val loss: 0.6129874246461051, Val f1: 0.6585853695869446\n",
      "Val loss: 0.6130370812756675, Val f1: 0.6621844172477722\n",
      "Val loss: 0.6130423279035659, Val f1: 0.6632471680641174\n",
      "Val loss: 0.6139861451728004, Val f1: 0.6624801754951477\n",
      "Val loss: 0.6137429676737104, Val f1: 0.6640334725379944\n",
      "\n",
      "Evaluating on test...\n",
      "Val loss: 0.6101507213380601, Val f1: 0.6683464646339417\n",
      "Val loss: 0.6146661738554636, Val f1: 0.6621446013450623\n",
      "Val loss: 0.6152864849125897, Val f1: 0.6611562967300415\n",
      "Val loss: 0.6146680613358816, Val f1: 0.6601378321647644\n",
      "Val loss: 0.6152665138244628, Val f1: 0.659311056137085\n",
      "\n",
      "starting Epoch 4\n",
      "Training...\n",
      "Train loss: 0.6131873488426208\n",
      "Train loss: 0.6135025628975459\n",
      "Train loss: 0.6128304719924926\n",
      "Train loss: 0.6118473316941943\n",
      "Train loss: 0.6112216700826373\n",
      "\n",
      "Evaluating on train...\n",
      "Val loss: 0.6072563937732152, Val f1: 0.6603478789329529\n",
      "Val loss: 0.6073776764529092, Val f1: 0.65956050157547\n",
      "Val loss: 0.6074122020176479, Val f1: 0.6588659882545471\n",
      "Val loss: 0.6075910082885198, Val f1: 0.6588608622550964\n",
      "Val loss: 0.6081391794340951, Val f1: 0.6578595042228699\n",
      "\n",
      "Evaluating on test...\n",
      "Val loss: 0.6110282672776116, Val f1: 0.6479029655456543\n",
      "Val loss: 0.610929462644789, Val f1: 0.6490718126296997\n",
      "Val loss: 0.6102987240861963, Val f1: 0.6499104499816895\n",
      "Val loss: 0.6097180346647898, Val f1: 0.6519580483436584\n",
      "Val loss: 0.6105070418781704, Val f1: 0.6521732211112976\n",
      "\n",
      "starting Epoch 5\n",
      "Training...\n",
      "Train loss: 0.6086341381072998\n",
      "Train loss: 0.6086223483085632\n",
      "Train loss: 0.6079948209580921\n",
      "Train loss: 0.6074498836483274\n",
      "Train loss: 0.6062888595036098\n",
      "\n",
      "Evaluating on train...\n",
      "Val loss: 0.6010451555252075, Val f1: 0.6827797889709473\n",
      "Val loss: 0.6005497830254691, Val f1: 0.6821109056472778\n",
      "Val loss: 0.6009690653710138, Val f1: 0.6807117462158203\n",
      "Val loss: 0.6010293607200895, Val f1: 0.6813309192657471\n",
      "Val loss: 0.6012293032237461, Val f1: 0.6802220940589905\n",
      "\n",
      "Evaluating on test...\n",
      "Val loss: 0.5995391011238098, Val f1: 0.6775146722793579\n",
      "Val loss: 0.6018205218844943, Val f1: 0.6770327091217041\n",
      "Val loss: 0.6019523916421113, Val f1: 0.6769706010818481\n",
      "Val loss: 0.6036660422881445, Val f1: 0.6760866045951843\n",
      "Val loss: 0.6047598838806152, Val f1: 0.673834502696991\n",
      "\n",
      "starting Epoch 6\n",
      "Training...\n",
      "Train loss: 0.6033579179218838\n",
      "Train loss: 0.6014939589159829\n",
      "Train loss: 0.6016365596226283\n",
      "Train loss: 0.6016139766999653\n",
      "Train loss: 0.6015806654521397\n",
      "\n",
      "Evaluating on train...\n",
      "Val loss: 0.5959773404257638, Val f1: 0.691548764705658\n",
      "Val loss: 0.5961210259369442, Val f1: 0.6925045251846313\n",
      "Val loss: 0.5966556600161961, Val f1: 0.6924622058868408\n",
      "Val loss: 0.5963969209364482, Val f1: 0.6939753890037537\n",
      "Val loss: 0.5967549000467572, Val f1: 0.693177342414856\n",
      "\n",
      "Evaluating on test...\n",
      "Val loss: 0.5985698501269022, Val f1: 0.6906726956367493\n",
      "Val loss: 0.5983847810162438, Val f1: 0.6904481649398804\n",
      "Val loss: 0.5992163728784632, Val f1: 0.6873416304588318\n",
      "Val loss: 0.6013805833127763, Val f1: 0.6843456029891968\n",
      "Val loss: 0.6013223555352952, Val f1: 0.685256838798523\n",
      "\n",
      "starting Epoch 7\n",
      "Training...\n",
      "Train loss: 0.5986003688403538\n",
      "Train loss: 0.5987506006445203\n",
      "Train loss: 0.5968009182385036\n",
      "Train loss: 0.5960523758615767\n",
      "Train loss: 0.596172170639038\n",
      "\n",
      "Evaluating on train...\n",
      "Val loss: 0.5898870689528329, Val f1: 0.6950685977935791\n",
      "Val loss: 0.5918719359806606, Val f1: 0.6937544941902161\n",
      "Val loss: 0.5924680443037124, Val f1: 0.6938167810440063\n",
      "Val loss: 0.5930570508752551, Val f1: 0.693658709526062\n",
      "Val loss: 0.5924444947923933, Val f1: 0.6939195990562439\n",
      "\n",
      "Evaluating on test...\n",
      "Val loss: 0.5959874987602234, Val f1: 0.6890164613723755\n",
      "Val loss: 0.5982860392994351, Val f1: 0.6845033764839172\n",
      "Val loss: 0.5976517796516418, Val f1: 0.6873378753662109\n",
      "Val loss: 0.5969251741965612, Val f1: 0.6864875555038452\n",
      "Val loss: 0.5980467716852824, Val f1: 0.6848917603492737\n",
      "\n",
      "starting Epoch 8\n",
      "Training...\n",
      "Train loss: 0.592221770967756\n",
      "Train loss: 0.592444143124989\n",
      "Train loss: 0.5923703080131895\n",
      "Train loss: 0.5921029874256679\n",
      "Train loss: 0.592710610798427\n",
      "\n",
      "Evaluating on train...\n",
      "Val loss: 0.596521988936833, Val f1: 0.7175599336624146\n",
      "Val loss: 0.5968438684940338, Val f1: 0.7166101932525635\n",
      "Val loss: 0.5978879701523554, Val f1: 0.7158069014549255\n",
      "Val loss: 0.5981935564960752, Val f1: 0.7157407402992249\n",
      "Val loss: 0.5970488415445601, Val f1: 0.716971755027771\n",
      "\n",
      "Evaluating on test...\n",
      "Val loss: 0.6047064397070143, Val f1: 0.7059764862060547\n",
      "Val loss: 0.6060524384180704, Val f1: 0.7072811722755432\n",
      "Val loss: 0.6030890610482957, Val f1: 0.7102991342544556\n",
      "Val loss: 0.6019258730941348, Val f1: 0.7108342051506042\n",
      "Val loss: 0.6043196850352817, Val f1: 0.7087962627410889\n",
      "\n",
      "starting Epoch 9\n",
      "Training...\n",
      "Train loss: 0.593021673815591\n",
      "Train loss: 0.5919700579983848\n",
      "Train loss: 0.5897196690241496\n",
      "Train loss: 0.5903687408992222\n",
      "Train loss: 0.5897325662204197\n",
      "\n",
      "Evaluating on train...\n",
      "Val loss: 0.587121137550899, Val f1: 0.6967321634292603\n",
      "Val loss: 0.5856437768254962, Val f1: 0.6965785622596741\n",
      "Val loss: 0.5855921489851815, Val f1: 0.6969766020774841\n",
      "Val loss: 0.5857881852558681, Val f1: 0.6970306038856506\n",
      "Val loss: 0.5865306414876665, Val f1: 0.6958958506584167\n",
      "\n",
      "Evaluating on test...\n",
      "Val loss: 0.5978773898548551, Val f1: 0.6858068704605103\n",
      "Val loss: 0.5929229491286807, Val f1: 0.6878349184989929\n",
      "Val loss: 0.5941590203179253, Val f1: 0.687343180179596\n",
      "Val loss: 0.5931913240088357, Val f1: 0.6877337098121643\n",
      "Val loss: 0.5931350164943271, Val f1: 0.6872389912605286\n"
     ]
    }
   ],
   "source": [
    "mix_np_losses, mix_np_losses_eval, mix_np_f1s, mix_np_f1s_eval = train_and_evaluate(model, train_iterator, val_iterator, optimizer, criterion, 10)"
   ]
  },
  {
   "cell_type": "code",
   "execution_count": 185,
   "metadata": {
    "colab": {
     "base_uri": "https://localhost:8080/",
     "height": 295
    },
    "id": "W5Jt84dTLNFA",
    "outputId": "1a35492c-3af3-4cb0-f1e3-8395fed31fd0"
   },
   "outputs": [
    {
     "data": {
      "image/png": "[encoded data removed]",
      "text/plain": [
       "<Figure size 432x288 with 1 Axes>"
      ]
     },
     "metadata": {
      "needs_background": "light"
     },
     "output_type": "display_data"
    }
   ],
   "source": [
    "plt.plot(mix_np_losses)\n",
    "plt.plot(mix_np_losses_eval)\n",
    "plt.title('BCE loss value')\n",
    "plt.ylabel('BCE loss')\n",
    "plt.xlabel('epoch')\n",
    "plt.legend(['train', 'val'], loc='upper right')\n",
    "plt.show()"
   ]
  },
  {
   "cell_type": "code",
   "execution_count": 186,
   "metadata": {
    "colab": {
     "base_uri": "https://localhost:8080/",
     "height": 295
    },
    "id": "cnJAuWj6M4rq",
    "outputId": "4ac3207c-b04f-4ebf-a387-73d09314a7ce"
   },
   "outputs": [
    {
     "data": {
      "image/png": "[encoded data removed]",
      "text/plain": [
       "<Figure size 432x288 with 1 Axes>"
      ]
     },
     "metadata": {
      "needs_background": "light"
     },
     "output_type": "display_data"
    }
   ],
   "source": [
    "plt.plot(mix_np_f1s)\n",
    "plt.plot(mix_np_f1s_eval)\n",
    "plt.title('F1 score')\n",
    "plt.ylabel('F1')\n",
    "plt.xlabel('epoch')\n",
    "plt.legend(['train', 'val'], loc='upper right')\n",
    "plt.show()"
   ]
  },
  {
   "cell_type": "markdown",
   "metadata": {},
   "source": [
    "Попробуем увеличить акцент на триграммы символов, поскольку у нас больше нет пунктуации и, соответственно смайликов типа \":)\" и т.д. Возможно, модель найдет какие-то триграммы, которые окажутся полезными для классификации. Вместо 80 выходных нейронов делаем 150:"
   ]
  },
  {
   "cell_type": "code",
   "execution_count": 199,
   "metadata": {
    "id": "7AVnz1n6NFnD"
   },
   "outputs": [],
   "source": [
    "class MixedCNN_improved(nn.Module):\n",
    "    \n",
    "    def __init__(self,\n",
    "                 token_vocab_size,\n",
    "                 symbol_vocab_size,\n",
    "                 char_embedding_dim):\n",
    "        super().__init__()\n",
    "        \n",
    "        self.token_embedding = nn.Embedding.from_pretrained(torch.Tensor(fasttext_embeddings))\n",
    "        self.token_hidden = nn.Linear(100, 100)\n",
    "        \n",
    "        self.char_embedding = nn.Embedding(symbol_vocab_size, char_embedding_dim)\n",
    "        self.char_bigrams = nn.Conv1d(in_channels=char_embedding_dim, out_channels=100, kernel_size=2, padding='same')\n",
    "        self.char_trigrams = nn.Conv1d(in_channels=char_embedding_dim, out_channels=150, kernel_size=3, padding='same')\n",
    "        \n",
    "        self.char_pooling = nn.MaxPool1d(kernel_size=2, stride=2)\n",
    "        self.relu = nn.ReLU()\n",
    "        \n",
    "        self.hidden_out = nn.Linear(350, 1)\n",
    "        self.out = nn.Sigmoid()\n",
    "    \n",
    "    def forward(self, tokens, chars):\n",
    "        tokens_embedded = self.token_embedding(tokens)\n",
    "        tokens_embedded = tokens_embedded.transpose(1,2).max(2)[0]\n",
    "        token_hidden = self.token_hidden(tokens_embedded)\n",
    "        \n",
    "        char_embedded = self.char_embedding(chars)\n",
    "        char_embedded = char_embedded.transpose(1,2)\n",
    "        feature_map_bigrams = self.char_pooling(self.relu(self.char_bigrams(char_embedded)))\n",
    "        feature_map_trigrams = self.char_pooling(self.relu(self.char_trigrams(char_embedded)))\n",
    "        pooling_bigrams = feature_map_bigrams.max(2)[0]\n",
    "        pooling_trigrams = feature_map_trigrams.max(2)[0]\n",
    "        concat = torch.cat((pooling_bigrams, pooling_trigrams), 1)\n",
    "        \n",
    "        concat_out = torch.cat((token_hidden, concat), 1)\n",
    "        logits = self.hidden_out(concat_out)\n",
    "        logits = self.out(logits)\n",
    "        return logits"
   ]
  },
  {
   "cell_type": "code",
   "execution_count": 200,
   "metadata": {
    "id": "pxxjbOX6OOMj"
   },
   "outputs": [],
   "source": [
    "model = MixedCNN_improved(len(id2token), len(id2symbol), 10)\n",
    "model = model.to(DEVICE)\n",
    "optimizer = optim.Adam(model.parameters(), lr=0.0005)\n",
    "criterion = nn.BCELoss()"
   ]
  },
  {
   "cell_type": "code",
   "execution_count": 201,
   "metadata": {
    "colab": {
     "base_uri": "https://localhost:8080/"
    },
    "id": "iHgyWx4WOUN7",
    "outputId": "9ba129aa-8993-4957-8494-83ea049e8575"
   },
   "outputs": [
    {
     "name": "stdout",
     "output_type": "stream",
     "text": [
      "\n",
      "starting Epoch 0\n",
      "Training...\n",
      "Train loss: 0.6920910222189767\n",
      "Train loss: 0.6768536797591618\n",
      "Train loss: 0.6695681696846372\n",
      "Train loss: 0.6635663666895457\n",
      "Train loss: 0.6598856912340436\n",
      "\n",
      "Evaluating on train...\n",
      "Val loss: 0.6372926677976336, Val f1: 0.6585112810134888\n",
      "Val loss: 0.6383646726608276, Val f1: 0.6570210456848145\n",
      "Val loss: 0.6377396509760902, Val f1: 0.6576496362686157\n",
      "Val loss: 0.6385188324110849, Val f1: 0.6558632254600525\n",
      "Val loss: 0.6382994025094169, Val f1: 0.6556969881057739\n",
      "\n",
      "Evaluating on test...\n",
      "Val loss: 0.6377592417928908, Val f1: 0.6564961075782776\n",
      "Val loss: 0.6380789147482978, Val f1: 0.6542075276374817\n",
      "Val loss: 0.6365418213385122, Val f1: 0.6584086418151855\n",
      "Val loss: 0.6373528175883822, Val f1: 0.656279981136322\n",
      "Val loss: 0.6379497236675686, Val f1: 0.654357373714447\n",
      "\n",
      "starting Epoch 1\n",
      "Training...\n",
      "Train loss: 0.6401648947170803\n",
      "Train loss: 0.6364960508687155\n",
      "Train loss: 0.6348265358379909\n",
      "Train loss: 0.6333580587591444\n",
      "Train loss: 0.6317204243796213\n",
      "\n",
      "Evaluating on train...\n",
      "Val loss: 0.6307005882263184, Val f1: 0.6098525524139404\n",
      "Val loss: 0.6298513378415789, Val f1: 0.6081472039222717\n",
      "Val loss: 0.6294319538843064, Val f1: 0.6090906858444214\n",
      "Val loss: 0.6284529571022306, Val f1: 0.6103267669677734\n",
      "Val loss: 0.6281030447142465, Val f1: 0.611258327960968\n",
      "\n",
      "Evaluating on test...\n",
      "Val loss: 0.628204709953732, Val f1: 0.60847008228302\n",
      "Val loss: 0.6292465395397611, Val f1: 0.6102946400642395\n",
      "Val loss: 0.6289166631522002, Val f1: 0.6118487119674683\n",
      "Val loss: 0.6283876001834869, Val f1: 0.6094196438789368\n",
      "Val loss: 0.6278273953331841, Val f1: 0.6086289882659912\n",
      "\n",
      "starting Epoch 2\n",
      "Training...\n",
      "Train loss: 0.6220289502825056\n",
      "Train loss: 0.6210939237049647\n",
      "Train loss: 0.6210175196329752\n",
      "Train loss: 0.619938798887389\n",
      "Train loss: 0.6191781854629517\n",
      "\n",
      "Evaluating on train...\n",
      "Val loss: 0.6117512685911995, Val f1: 0.6744458079338074\n",
      "Val loss: 0.6113043759550367, Val f1: 0.6776386499404907\n",
      "Val loss: 0.6108538831983293, Val f1: 0.6782541275024414\n",
      "Val loss: 0.6111955744879586, Val f1: 0.677129864692688\n",
      "Val loss: 0.6118847073827471, Val f1: 0.6767005324363708\n",
      "\n",
      "Evaluating on test...\n",
      "Val loss: 0.6172240244017707, Val f1: 0.6694068312644958\n",
      "Val loss: 0.6142856776714325, Val f1: 0.6776890158653259\n",
      "Val loss: 0.6152465034414221, Val f1: 0.6745995879173279\n",
      "Val loss: 0.6148713231086731, Val f1: 0.6720458269119263\n",
      "Val loss: 0.6139847649468316, Val f1: 0.6727436184883118\n",
      "\n",
      "starting Epoch 3\n",
      "Training...\n",
      "Train loss: 0.6087486795016698\n",
      "Train loss: 0.6099981699671064\n",
      "Train loss: 0.6100587271508716\n",
      "Train loss: 0.6101493924856186\n",
      "Train loss: 0.6095248195103237\n",
      "\n",
      "Evaluating on train...\n",
      "Val loss: 0.6030645455632891, Val f1: 0.672239363193512\n",
      "Val loss: 0.6036029951913017, Val f1: 0.6714385151863098\n",
      "Val loss: 0.6037339358102708, Val f1: 0.6711918711662292\n",
      "Val loss: 0.6039371371269227, Val f1: 0.6706381440162659\n",
      "Val loss: 0.6045344744409834, Val f1: 0.670344352722168\n",
      "\n",
      "Evaluating on test...\n",
      "Val loss: 0.6126451823446486, Val f1: 0.6585922241210938\n",
      "Val loss: 0.610991057422426, Val f1: 0.6598839163780212\n",
      "Val loss: 0.608012009550024, Val f1: 0.6632204651832581\n",
      "Val loss: 0.6075242244535022, Val f1: 0.665540337562561\n",
      "Val loss: 0.6073566158612569, Val f1: 0.6665960550308228\n",
      "\n",
      "starting Epoch 4\n",
      "Training...\n",
      "Train loss: 0.6034745352608817\n",
      "Train loss: 0.6051959906305585\n",
      "Train loss: 0.6032476833888463\n",
      "Train loss: 0.6033493591206415\n",
      "Train loss: 0.6032687442643302\n",
      "\n",
      "Evaluating on train...\n",
      "Val loss: 0.6042177319526673, Val f1: 0.6451767086982727\n",
      "Val loss: 0.6056064128875732, Val f1: 0.6441883444786072\n",
      "Val loss: 0.6048157737368629, Val f1: 0.6453050374984741\n",
      "Val loss: 0.6034302421978541, Val f1: 0.6468715071678162\n",
      "Val loss: 0.602994544506073, Val f1: 0.6471211910247803\n",
      "\n",
      "Evaluating on test...\n",
      "Val loss: 0.6130440897411771, Val f1: 0.63838791847229\n",
      "Val loss: 0.608042793141471, Val f1: 0.6441341042518616\n",
      "Val loss: 0.6078064728666235, Val f1: 0.6445326805114746\n",
      "Val loss: 0.606524098250601, Val f1: 0.6432801485061646\n",
      "Val loss: 0.6063123411602445, Val f1: 0.6429884433746338\n",
      "\n",
      "starting Epoch 5\n",
      "Training...\n",
      "Train loss: 0.601546335220337\n",
      "Train loss: 0.5997437766620091\n",
      "Train loss: 0.599080502986908\n",
      "Train loss: 0.5988671890326909\n",
      "Train loss: 0.5987240062441145\n",
      "\n",
      "Evaluating on train...\n",
      "Val loss: 0.5969173771994455, Val f1: 0.6559441685676575\n",
      "Val loss: 0.5973980282034193, Val f1: 0.6563307046890259\n",
      "Val loss: 0.597161725021544, Val f1: 0.656014084815979\n",
      "Val loss: 0.5974251146827425, Val f1: 0.6563507914543152\n",
      "Val loss: 0.5977121261187962, Val f1: 0.6557728052139282\n",
      "\n",
      "Evaluating on test...\n",
      "Val loss: 0.6022099256515503, Val f1: 0.6434105634689331\n",
      "Val loss: 0.5988940397898356, Val f1: 0.6474387645721436\n",
      "Val loss: 0.5997789347613299, Val f1: 0.6484116315841675\n",
      "Val loss: 0.6011960986587737, Val f1: 0.6472721695899963\n",
      "Val loss: 0.6030496822463142, Val f1: 0.646816611289978\n",
      "\n",
      "starting Epoch 6\n",
      "Training...\n",
      "Train loss: 0.596871246610369\n",
      "Train loss: 0.5954744049480983\n",
      "Train loss: 0.5940742123694647\n",
      "Train loss: 0.5935368384633746\n",
      "Train loss: 0.5937542499814714\n",
      "\n",
      "Evaluating on train...\n",
      "Val loss: 0.5930063247680664, Val f1: 0.7118636965751648\n",
      "Val loss: 0.5935325571468898, Val f1: 0.7108550071716309\n",
      "Val loss: 0.5930116840771267, Val f1: 0.7116735577583313\n",
      "Val loss: 0.5929470411368779, Val f1: 0.711534857749939\n",
      "Val loss: 0.5933922270366124, Val f1: 0.7109308838844299\n",
      "\n",
      "Evaluating on test...\n",
      "Val loss: 0.5996701320012411, Val f1: 0.7020041942596436\n",
      "Val loss: 0.6037964555952284, Val f1: 0.6991126537322998\n",
      "Val loss: 0.6010729802979363, Val f1: 0.7013795971870422\n",
      "Val loss: 0.6001988169219759, Val f1: 0.702821671962738\n",
      "Val loss: 0.6005006551742553, Val f1: 0.7018800973892212\n",
      "\n",
      "starting Epoch 7\n",
      "Training...\n",
      "Train loss: 0.5894861033984593\n",
      "Train loss: 0.5888787244047438\n",
      "Train loss: 0.5895337127503895\n",
      "Train loss: 0.5888605952262879\n",
      "Train loss: 0.5891102228845869\n",
      "\n",
      "Evaluating on train...\n",
      "Val loss: 0.5890034062521798, Val f1: 0.7127366662025452\n",
      "Val loss: 0.5884133049419948, Val f1: 0.7140628099441528\n",
      "Val loss: 0.589464921610696, Val f1: 0.7142680883407593\n",
      "Val loss: 0.5892963720219476, Val f1: 0.7135353684425354\n",
      "Val loss: 0.5893427324295044, Val f1: 0.7137289643287659\n",
      "\n",
      "Evaluating on test...\n",
      "Val loss: 0.6068813072310554, Val f1: 0.6925910711288452\n",
      "Val loss: 0.6007685793770684, Val f1: 0.699853241443634\n",
      "Val loss: 0.5990887063520925, Val f1: 0.7014164924621582\n",
      "Val loss: 0.5984148681163788, Val f1: 0.7029751539230347\n",
      "Val loss: 0.5972251097361246, Val f1: 0.7044733166694641\n",
      "\n",
      "starting Epoch 8\n",
      "Training...\n",
      "Train loss: 0.5869542002677918\n",
      "Train loss: 0.5873060124261039\n",
      "Train loss: 0.586348341192518\n",
      "Train loss: 0.586130051953452\n",
      "Train loss: 0.5859048959187099\n",
      "\n",
      "Evaluating on train...\n",
      "Val loss: 0.5833731174468995, Val f1: 0.7005332708358765\n",
      "Val loss: 0.5829669739518847, Val f1: 0.7022587060928345\n",
      "Val loss: 0.5824234479949588, Val f1: 0.7025423049926758\n",
      "Val loss: 0.5825837769678661, Val f1: 0.7020761966705322\n",
      "Val loss: 0.5821219716753279, Val f1: 0.7025948762893677\n",
      "\n",
      "Evaluating on test...\n",
      "Val loss: 0.5965336494975619, Val f1: 0.6820160746574402\n",
      "Val loss: 0.5938574837313758, Val f1: 0.6849241256713867\n",
      "Val loss: 0.591580037717466, Val f1: 0.6895121335983276\n",
      "Val loss: 0.5901331818766065, Val f1: 0.6915385723114014\n",
      "Val loss: 0.5892111433876885, Val f1: 0.692830502986908\n",
      "\n",
      "starting Epoch 9\n",
      "Training...\n",
      "Train loss: 0.5828888024602618\n",
      "Train loss: 0.5829624840191432\n",
      "Train loss: 0.5836366823741368\n",
      "Train loss: 0.5831672391721181\n",
      "Train loss: 0.5826665197099958\n",
      "\n",
      "Evaluating on train...\n",
      "Val loss: 0.5787285600389753, Val f1: 0.6967732310295105\n",
      "Val loss: 0.577582619871412, Val f1: 0.7018709778785706\n",
      "Val loss: 0.5773960039729163, Val f1: 0.7013585567474365\n",
      "Val loss: 0.5791219562292099, Val f1: 0.6995421648025513\n",
      "Val loss: 0.57902341399874, Val f1: 0.6996088624000549\n",
      "\n",
      "Evaluating on test...\n",
      "Val loss: 0.5900319086180793, Val f1: 0.6826724410057068\n",
      "Val loss: 0.5877349476019541, Val f1: 0.6876323819160461\n",
      "Val loss: 0.587794131702847, Val f1: 0.6887076497077942\n",
      "Val loss: 0.5870913747284148, Val f1: 0.6898861527442932\n",
      "Val loss: 0.5875707295205858, Val f1: 0.6891748309135437\n"
     ]
    }
   ],
   "source": [
    "imp_mix_np_losses, imp_mix_np_losses_eval, imp_mix_np_f1s, imp_mix_np_f1s_eval = train_and_evaluate(model, train_iterator, val_iterator, optimizer, criterion, 10)"
   ]
  },
  {
   "cell_type": "code",
   "execution_count": 202,
   "metadata": {
    "colab": {
     "base_uri": "https://localhost:8080/",
     "height": 295
    },
    "id": "jG9qV37rOjut",
    "outputId": "599e3b78-dada-4858-a367-8544601cdf33"
   },
   "outputs": [
    {
     "data": {
      "image/png": "[encoded data removed]",
      "text/plain": [
       "<Figure size 432x288 with 1 Axes>"
      ]
     },
     "metadata": {
      "needs_background": "light"
     },
     "output_type": "display_data"
    }
   ],
   "source": [
    "plt.plot(imp_mix_np_losses)\n",
    "plt.plot(imp_mix_np_losses_eval)\n",
    "plt.title('BCE loss value')\n",
    "plt.ylabel('BCE loss')\n",
    "plt.xlabel('epoch')\n",
    "plt.legend(['train', 'val'], loc='upper right')\n",
    "plt.show()"
   ]
  },
  {
   "cell_type": "code",
   "execution_count": 203,
   "metadata": {
    "colab": {
     "base_uri": "https://localhost:8080/",
     "height": 295
    },
    "id": "F-uNevOkZAt4",
    "outputId": "aa36e327-3f3b-4a34-a2a4-8d1e2f8b3f7d"
   },
   "outputs": [
    {
     "data": {
      "image/png": "[encoded data removed]",
      "text/plain": [
       "<Figure size 432x288 with 1 Axes>"
      ]
     },
     "metadata": {
      "needs_background": "light"
     },
     "output_type": "display_data"
    }
   ],
   "source": [
    "plt.plot(imp_mix_np_f1s)\n",
    "plt.plot(imp_mix_np_f1s_eval)\n",
    "plt.title('F1 score')\n",
    "plt.ylabel('F1')\n",
    "plt.xlabel('epoch')\n",
    "plt.legend(['train', 'val'], loc='upper right')\n",
    "plt.show()"
   ]
  },
  {
   "cell_type": "markdown",
   "metadata": {
    "id": "VC2XRC2ufYi8"
   },
   "source": [
    "Мы видим, что благодаря этому F-мера слегка улучшилась, однако все еще не так высока. В любом случае, можно предположить, что больший акцент на триграммы символов при отсутствии пунктуации помогает."
   ]
  },
  {
   "cell_type": "code",
   "execution_count": null,
   "metadata": {
    "id": "ymIIvcW_ffgU"
   },
   "outputs": [],
   "source": [
    "# made by nejenek"
   ]
  }
 ],
 "metadata": {
  "accelerator": "GPU",
  "colab": {
   "collapsed_sections": [],
   "name": "hw2.ipynb",
   "provenance": []
  },
  "kernelspec": {
   "display_name": "Python 3",
   "language": "python",
   "name": "python3"
  },
  "language_info": {
   "codemirror_mode": {
    "name": "ipython",
    "version": 3
   },
   "file_extension": ".py",
   "mimetype": "text/x-python",
   "name": "python",
   "nbconvert_exporter": "python",
   "pygments_lexer": "ipython3",
   "version": "3.7.6"
  }
 },
 "nbformat": 4,
 "nbformat_minor": 1
}
